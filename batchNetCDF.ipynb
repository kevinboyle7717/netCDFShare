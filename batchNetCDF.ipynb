{
 "cells": [
  {
   "cell_type": "code",
   "execution_count": 1,
   "metadata": {},
   "outputs": [],
   "source": [
    "import netCDF4\n",
    "import pandas as pd\n",
    "import geopandas as gpd\n",
    "import numpy as np\n",
    "import os\n",
    "from glob import glob\n",
    "from osgeo import gdal"
   ]
  },
  {
   "cell_type": "markdown",
   "metadata": {},
   "source": [
    "### The below class is initiated with a direcory containing netCDF files. The class constructs itself by creating a dataframe and geodataframe object. The class contains a method to filter the original dataframe given a QA Value threshold. For example, if 0.75 is passed, only QA values greater than 0.75 will be returned."
   ]
  },
  {
   "cell_type": "code",
   "execution_count": 2,
   "metadata": {},
   "outputs": [],
   "source": [
    "class netCDF():\n",
    "    def __init__(self, directory):\n",
    "        dfList = []\n",
    "        currentDirectory = os.chdir(directory)\n",
    "        netCDFFiles = glob(\"*.nc\")\n",
    "        for file in netCDFFiles:\n",
    "            data = netCDF4.Dataset(os.path.join(directory, file))\n",
    "            product = data.groups['PRODUCT']\n",
    "            latDF = pd.DataFrame(np.array(product.variables['latitude']).flatten(), columns=['latitude'])\n",
    "            lonDF = pd.DataFrame(np.array(product.variables['longitude']).flatten(), columns=['longitude'])\n",
    "            N02TropoDF = pd.DataFrame(np.array(product.variables['nitrogendioxide_tropospheric_column']).flatten(), columns = ['N02'])\n",
    "            qaValuesDF = pd.DataFrame(np.array(product.variables['qa_value']).flatten(), columns = ['QAValue'])\n",
    "            df = latDF.merge(lonDF, left_index=True, right_index=True)\n",
    "            df = df.merge(N02TropoDF, left_index=True, right_index=True)\n",
    "            df = df.merge(qaValuesDF, left_index=True, right_index=True)\n",
    "            dfList.append(df)\n",
    "        self.df = pd.concat(dfList)\n",
    "        self.geoDF = gpd.GeoDataFrame(df, geometry=gpd.points_from_xy(df.longitude, df.latitude))\n",
    "        \n",
    "    def filterQAValue(self,value):\n",
    "        filteredDF = self.df.query('QAValue > ' + str(value))\n",
    "        return filteredDF\n",
    "        \n",
    "    "
   ]
  },
  {
   "cell_type": "code",
   "execution_count": 3,
   "metadata": {},
   "outputs": [],
   "source": [
    "path = r\"/Users/kevinboyle/Documents/SentinelData\""
   ]
  },
  {
   "cell_type": "code",
   "execution_count": 4,
   "metadata": {},
   "outputs": [],
   "source": [
    "test = netCDF(path)"
   ]
  },
  {
   "cell_type": "code",
   "execution_count": 8,
   "metadata": {},
   "outputs": [
    {
     "data": {
      "text/plain": [
       "334800"
      ]
     },
     "execution_count": 8,
     "metadata": {},
     "output_type": "execute_result"
    }
   ],
   "source": [
    "len(test.df)"
   ]
  },
  {
   "cell_type": "code",
   "execution_count": 5,
   "metadata": {},
   "outputs": [
    {
     "data": {
      "text/html": [
       "<div>\n",
       "<style scoped>\n",
       "    .dataframe tbody tr th:only-of-type {\n",
       "        vertical-align: middle;\n",
       "    }\n",
       "\n",
       "    .dataframe tbody tr th {\n",
       "        vertical-align: top;\n",
       "    }\n",
       "\n",
       "    .dataframe thead th {\n",
       "        text-align: right;\n",
       "    }\n",
       "</style>\n",
       "<table border=\"1\" class=\"dataframe\">\n",
       "  <thead>\n",
       "    <tr style=\"text-align: right;\">\n",
       "      <th></th>\n",
       "      <th>latitude</th>\n",
       "      <th>longitude</th>\n",
       "      <th>N02</th>\n",
       "      <th>QAValue</th>\n",
       "      <th>geometry</th>\n",
       "    </tr>\n",
       "  </thead>\n",
       "  <tbody>\n",
       "    <tr>\n",
       "      <th>0</th>\n",
       "      <td>32.364525</td>\n",
       "      <td>117.091576</td>\n",
       "      <td>9.969210e+36</td>\n",
       "      <td>0.00</td>\n",
       "      <td>POINT (117.09158 32.36452)</td>\n",
       "    </tr>\n",
       "    <tr>\n",
       "      <th>1</th>\n",
       "      <td>32.407211</td>\n",
       "      <td>117.178032</td>\n",
       "      <td>2.933390e-04</td>\n",
       "      <td>0.33</td>\n",
       "      <td>POINT (117.17803 32.40721)</td>\n",
       "    </tr>\n",
       "    <tr>\n",
       "      <th>2</th>\n",
       "      <td>32.449253</td>\n",
       "      <td>117.263390</td>\n",
       "      <td>1.517603e-04</td>\n",
       "      <td>0.33</td>\n",
       "      <td>POINT (117.26339 32.44925)</td>\n",
       "    </tr>\n",
       "    <tr>\n",
       "      <th>3</th>\n",
       "      <td>32.490669</td>\n",
       "      <td>117.347672</td>\n",
       "      <td>-8.594624e-05</td>\n",
       "      <td>0.33</td>\n",
       "      <td>POINT (117.34767 32.49067)</td>\n",
       "    </tr>\n",
       "    <tr>\n",
       "      <th>4</th>\n",
       "      <td>32.531471</td>\n",
       "      <td>117.430908</td>\n",
       "      <td>-1.847283e-04</td>\n",
       "      <td>0.33</td>\n",
       "      <td>POINT (117.43091 32.53147)</td>\n",
       "    </tr>\n",
       "  </tbody>\n",
       "</table>\n",
       "</div>"
      ],
      "text/plain": [
       "    latitude   longitude           N02  QAValue                    geometry\n",
       "0  32.364525  117.091576  9.969210e+36     0.00  POINT (117.09158 32.36452)\n",
       "1  32.407211  117.178032  2.933390e-04     0.33  POINT (117.17803 32.40721)\n",
       "2  32.449253  117.263390  1.517603e-04     0.33  POINT (117.26339 32.44925)\n",
       "3  32.490669  117.347672 -8.594624e-05     0.33  POINT (117.34767 32.49067)\n",
       "4  32.531471  117.430908 -1.847283e-04     0.33  POINT (117.43091 32.53147)"
      ]
     },
     "execution_count": 5,
     "metadata": {},
     "output_type": "execute_result"
    }
   ],
   "source": [
    "test.geoDF.head()"
   ]
  },
  {
   "cell_type": "code",
   "execution_count": 6,
   "metadata": {},
   "outputs": [
    {
     "data": {
      "text/html": [
       "<div>\n",
       "<style scoped>\n",
       "    .dataframe tbody tr th:only-of-type {\n",
       "        vertical-align: middle;\n",
       "    }\n",
       "\n",
       "    .dataframe tbody tr th {\n",
       "        vertical-align: top;\n",
       "    }\n",
       "\n",
       "    .dataframe thead th {\n",
       "        text-align: right;\n",
       "    }\n",
       "</style>\n",
       "<table border=\"1\" class=\"dataframe\">\n",
       "  <thead>\n",
       "    <tr style=\"text-align: right;\">\n",
       "      <th></th>\n",
       "      <th>latitude</th>\n",
       "      <th>longitude</th>\n",
       "      <th>N02</th>\n",
       "      <th>QAValue</th>\n",
       "    </tr>\n",
       "  </thead>\n",
       "  <tbody>\n",
       "    <tr>\n",
       "      <th>48</th>\n",
       "      <td>34.458431</td>\n",
       "      <td>121.643723</td>\n",
       "      <td>0.000033</td>\n",
       "      <td>1.00</td>\n",
       "    </tr>\n",
       "    <tr>\n",
       "      <th>49</th>\n",
       "      <td>34.495884</td>\n",
       "      <td>121.732651</td>\n",
       "      <td>0.000031</td>\n",
       "      <td>1.00</td>\n",
       "    </tr>\n",
       "    <tr>\n",
       "      <th>50</th>\n",
       "      <td>34.532722</td>\n",
       "      <td>121.820480</td>\n",
       "      <td>0.000032</td>\n",
       "      <td>1.00</td>\n",
       "    </tr>\n",
       "    <tr>\n",
       "      <th>51</th>\n",
       "      <td>34.568966</td>\n",
       "      <td>121.907234</td>\n",
       "      <td>0.000032</td>\n",
       "      <td>1.00</td>\n",
       "    </tr>\n",
       "    <tr>\n",
       "      <th>52</th>\n",
       "      <td>34.604630</td>\n",
       "      <td>121.992943</td>\n",
       "      <td>0.000030</td>\n",
       "      <td>1.00</td>\n",
       "    </tr>\n",
       "    <tr>\n",
       "      <th>...</th>\n",
       "      <td>...</td>\n",
       "      <td>...</td>\n",
       "      <td>...</td>\n",
       "      <td>...</td>\n",
       "    </tr>\n",
       "    <tr>\n",
       "      <th>167330</th>\n",
       "      <td>56.355881</td>\n",
       "      <td>134.480988</td>\n",
       "      <td>0.000003</td>\n",
       "      <td>0.88</td>\n",
       "    </tr>\n",
       "    <tr>\n",
       "      <th>167331</th>\n",
       "      <td>56.357723</td>\n",
       "      <td>134.595261</td>\n",
       "      <td>0.000004</td>\n",
       "      <td>0.88</td>\n",
       "    </tr>\n",
       "    <tr>\n",
       "      <th>167332</th>\n",
       "      <td>56.359436</td>\n",
       "      <td>134.710739</td>\n",
       "      <td>0.000005</td>\n",
       "      <td>0.88</td>\n",
       "    </tr>\n",
       "    <tr>\n",
       "      <th>167333</th>\n",
       "      <td>56.361015</td>\n",
       "      <td>134.827438</td>\n",
       "      <td>0.000003</td>\n",
       "      <td>0.88</td>\n",
       "    </tr>\n",
       "    <tr>\n",
       "      <th>167334</th>\n",
       "      <td>56.362457</td>\n",
       "      <td>134.945389</td>\n",
       "      <td>0.000003</td>\n",
       "      <td>0.88</td>\n",
       "    </tr>\n",
       "  </tbody>\n",
       "</table>\n",
       "<p>58268 rows × 4 columns</p>\n",
       "</div>"
      ],
      "text/plain": [
       "         latitude   longitude       N02  QAValue\n",
       "48      34.458431  121.643723  0.000033     1.00\n",
       "49      34.495884  121.732651  0.000031     1.00\n",
       "50      34.532722  121.820480  0.000032     1.00\n",
       "51      34.568966  121.907234  0.000032     1.00\n",
       "52      34.604630  121.992943  0.000030     1.00\n",
       "...           ...         ...       ...      ...\n",
       "167330  56.355881  134.480988  0.000003     0.88\n",
       "167331  56.357723  134.595261  0.000004     0.88\n",
       "167332  56.359436  134.710739  0.000005     0.88\n",
       "167333  56.361015  134.827438  0.000003     0.88\n",
       "167334  56.362457  134.945389  0.000003     0.88\n",
       "\n",
       "[58268 rows x 4 columns]"
      ]
     },
     "execution_count": 6,
     "metadata": {},
     "output_type": "execute_result"
    }
   ],
   "source": [
    "test.filterQAValue(.75)"
   ]
  },
  {
   "cell_type": "code",
   "execution_count": null,
   "metadata": {},
   "outputs": [],
   "source": []
  }
 ],
 "metadata": {
  "kernelspec": {
   "display_name": "Python 3",
   "language": "python",
   "name": "python3"
  },
  "language_info": {
   "codemirror_mode": {
    "name": "ipython",
    "version": 3
   },
   "file_extension": ".py",
   "mimetype": "text/x-python",
   "name": "python",
   "nbconvert_exporter": "python",
   "pygments_lexer": "ipython3",
   "version": "3.7.0"
  }
 },
 "nbformat": 4,
 "nbformat_minor": 4
}
