{
 "cells": [
  {
   "cell_type": "code",
   "execution_count": 1,
   "metadata": {},
   "outputs": [],
   "source": [
    "import netCDF4\n",
    "import pandas as pd\n",
    "import geopandas as gpd\n",
    "import numpy as np\n",
    "import os\n",
    "from glob import glob"
   ]
  },
  {
   "cell_type": "markdown",
   "metadata": {},
   "source": [
    "### The below function accepts a directory containing netCDF files from Sentinel 5 and converts all the netCDF files in the passed directory to a single geodataframe"
   ]
  },
  {
   "cell_type": "code",
   "execution_count": 2,
   "metadata": {},
   "outputs": [],
   "source": [
    "def netCDFToDataframe(directory):\n",
    "    dfList = []\n",
    "    currentDirectory = os.chdir(directory)\n",
    "    netCDFFiles = glob(\"*.nc\")\n",
    "    for file in netCDFFiles:\n",
    "        data = netCDF4.Dataset(os.path.join(directory, file))\n",
    "        print(os.path.join(directory, file))\n",
    "        product = data.groups['PRODUCT']\n",
    "        latDF = pd.DataFrame(np.array(product.variables['latitude']).flatten(), columns=['latitude'])\n",
    "        lonDF = pd.DataFrame(np.array(product.variables['longitude']).flatten(), columns=['longitude'])\n",
    "        N02TropoDF = pd.DataFrame(np.array(product.variables['nitrogendioxide_tropospheric_column']).flatten(), columns = ['N02'])\n",
    "        df = latDF.merge(lonDF, left_index=True, right_index=True)\n",
    "        df = df.merge(N02TropoDF, left_index=True, right_index=True)\n",
    "        dfList.append(df)\n",
    "    df = pd.concat(dfList)\n",
    "    geoDF = gpd.GeoDataFrame(df, geometry=gpd.points_from_xy(df.longitude, df.latitude))\n",
    "    return geoDF"
   ]
  },
  {
   "cell_type": "code",
   "execution_count": null,
   "metadata": {},
   "outputs": [],
   "source": []
  }
 ],
 "metadata": {
  "kernelspec": {
   "display_name": "Python 3",
   "language": "python",
   "name": "python3"
  },
  "language_info": {
   "codemirror_mode": {
    "name": "ipython",
    "version": 3
   },
   "file_extension": ".py",
   "mimetype": "text/x-python",
   "name": "python",
   "nbconvert_exporter": "python",
   "pygments_lexer": "ipython3",
   "version": "3.7.0"
  }
 },
 "nbformat": 4,
 "nbformat_minor": 4
}
