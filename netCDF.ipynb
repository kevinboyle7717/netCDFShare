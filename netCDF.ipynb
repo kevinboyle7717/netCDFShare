{
 "cells": [
  {
   "cell_type": "markdown",
   "metadata": {},
   "source": [
    "Import the needed libraries"
   ]
  },
  {
   "cell_type": "code",
   "execution_count": 49,
   "metadata": {},
   "outputs": [],
   "source": [
    "import netCDF4\n",
    "import matplotlib.pyplot as plt\n",
    "import matplotlib.patches as mpatches\n",
    "import xarray as xr\n",
    "import pandas as pd\n",
    "import geopandas as gpd\n",
    "import folium\n",
    "import plotly.graph_objects as go\n",
    "import plotly.express as px"
   ]
  },
  {
   "cell_type": "markdown",
   "metadata": {},
   "source": [
    "set a variable to store the path to the netCDF file you want to analyze"
   ]
  },
  {
   "cell_type": "code",
   "execution_count": 46,
   "metadata": {},
   "outputs": [],
   "source": [
    "path = r\"/Users/kevinboyle/Downloads/S5P_NRTI_L2__NO2____20200420T041948_20200420T042448_13049_01_010302_20200420T045750-2.nc\""
   ]
  },
  {
   "cell_type": "code",
   "execution_count": 47,
   "metadata": {},
   "outputs": [],
   "source": [
    "mapboxToken = 'pk.eyJ1Ijoia2V2aW5ib3lsZTc3MTciLCJhIjoiY2s5aWhoMWk4MTlmODNtbndwemg3YmI2OCJ9.-rsr3AC5aprIBVXe5oL0Zg'"
   ]
  },
  {
   "cell_type": "markdown",
   "metadata": {},
   "source": [
    "load in the dataset and store it in a variable. the xarray dataset prints out a neatly formatted view of the data attributes"
   ]
  },
  {
   "cell_type": "code",
   "execution_count": 5,
   "metadata": {},
   "outputs": [],
   "source": [
    "dataset = netCDF4.Dataset(path)"
   ]
  },
  {
   "cell_type": "code",
   "execution_count": 6,
   "metadata": {},
   "outputs": [],
   "source": [
    "xarrayData = xr.open_dataset(path)"
   ]
  },
  {
   "cell_type": "code",
   "execution_count": 7,
   "metadata": {},
   "outputs": [
    {
     "data": {
      "text/html": [
       "<div><svg style=\"position: absolute; width: 0; height: 0; overflow: hidden\">\n",
       "<defs>\n",
       "<symbol id=\"icon-database\" viewBox=\"0 0 32 32\">\n",
       "<title>Show/Hide data repr</title>\n",
       "<path d=\"M16 0c-8.837 0-16 2.239-16 5v4c0 2.761 7.163 5 16 5s16-2.239 16-5v-4c0-2.761-7.163-5-16-5z\"></path>\n",
       "<path d=\"M16 17c-8.837 0-16-2.239-16-5v6c0 2.761 7.163 5 16 5s16-2.239 16-5v-6c0 2.761-7.163 5-16 5z\"></path>\n",
       "<path d=\"M16 26c-8.837 0-16-2.239-16-5v6c0 2.761 7.163 5 16 5s16-2.239 16-5v-6c0 2.761-7.163 5-16 5z\"></path>\n",
       "</symbol>\n",
       "<symbol id=\"icon-file-text2\" viewBox=\"0 0 32 32\">\n",
       "<title>Show/Hide attributes</title>\n",
       "<path d=\"M28.681 7.159c-0.694-0.947-1.662-2.053-2.724-3.116s-2.169-2.030-3.116-2.724c-1.612-1.182-2.393-1.319-2.841-1.319h-15.5c-1.378 0-2.5 1.121-2.5 2.5v27c0 1.378 1.122 2.5 2.5 2.5h23c1.378 0 2.5-1.122 2.5-2.5v-19.5c0-0.448-0.137-1.23-1.319-2.841zM24.543 5.457c0.959 0.959 1.712 1.825 2.268 2.543h-4.811v-4.811c0.718 0.556 1.584 1.309 2.543 2.268zM28 29.5c0 0.271-0.229 0.5-0.5 0.5h-23c-0.271 0-0.5-0.229-0.5-0.5v-27c0-0.271 0.229-0.5 0.5-0.5 0 0 15.499-0 15.5 0v7c0 0.552 0.448 1 1 1h7v19.5z\"></path>\n",
       "<path d=\"M23 26h-14c-0.552 0-1-0.448-1-1s0.448-1 1-1h14c0.552 0 1 0.448 1 1s-0.448 1-1 1z\"></path>\n",
       "<path d=\"M23 22h-14c-0.552 0-1-0.448-1-1s0.448-1 1-1h14c0.552 0 1 0.448 1 1s-0.448 1-1 1z\"></path>\n",
       "<path d=\"M23 18h-14c-0.552 0-1-0.448-1-1s0.448-1 1-1h14c0.552 0 1 0.448 1 1s-0.448 1-1 1z\"></path>\n",
       "</symbol>\n",
       "</defs>\n",
       "</svg>\n",
       "<style>/* CSS stylesheet for displaying xarray objects in jupyterlab.\n",
       " *\n",
       " */\n",
       "\n",
       ":root {\n",
       "  --xr-font-color0: var(--jp-content-font-color0, rgba(0, 0, 0, 1));\n",
       "  --xr-font-color2: var(--jp-content-font-color2, rgba(0, 0, 0, 0.54));\n",
       "  --xr-font-color3: var(--jp-content-font-color3, rgba(0, 0, 0, 0.38));\n",
       "  --xr-border-color: var(--jp-border-color2, #e0e0e0);\n",
       "  --xr-disabled-color: var(--jp-layout-color3, #bdbdbd);\n",
       "  --xr-background-color: var(--jp-layout-color0, white);\n",
       "  --xr-background-color-row-even: var(--jp-layout-color1, white);\n",
       "  --xr-background-color-row-odd: var(--jp-layout-color2, #eeeeee);\n",
       "}\n",
       "\n",
       ".xr-wrap {\n",
       "  min-width: 300px;\n",
       "  max-width: 700px;\n",
       "}\n",
       "\n",
       ".xr-header {\n",
       "  padding-top: 6px;\n",
       "  padding-bottom: 6px;\n",
       "  margin-bottom: 4px;\n",
       "  border-bottom: solid 1px var(--xr-border-color);\n",
       "}\n",
       "\n",
       ".xr-header > div,\n",
       ".xr-header > ul {\n",
       "  display: inline;\n",
       "  margin-top: 0;\n",
       "  margin-bottom: 0;\n",
       "}\n",
       "\n",
       ".xr-obj-type,\n",
       ".xr-array-name {\n",
       "  margin-left: 2px;\n",
       "  margin-right: 10px;\n",
       "}\n",
       "\n",
       ".xr-obj-type {\n",
       "  color: var(--xr-font-color2);\n",
       "}\n",
       "\n",
       ".xr-sections {\n",
       "  padding-left: 0 !important;\n",
       "  display: grid;\n",
       "  grid-template-columns: 150px auto auto 1fr 20px 20px;\n",
       "}\n",
       "\n",
       ".xr-section-item {\n",
       "  display: contents;\n",
       "}\n",
       "\n",
       ".xr-section-item input {\n",
       "  display: none;\n",
       "}\n",
       "\n",
       ".xr-section-item input + label {\n",
       "  color: var(--xr-disabled-color);\n",
       "}\n",
       "\n",
       ".xr-section-item input:enabled + label {\n",
       "  cursor: pointer;\n",
       "  color: var(--xr-font-color2);\n",
       "}\n",
       "\n",
       ".xr-section-item input:enabled + label:hover {\n",
       "  color: var(--xr-font-color0);\n",
       "}\n",
       "\n",
       ".xr-section-summary {\n",
       "  grid-column: 1;\n",
       "  color: var(--xr-font-color2);\n",
       "  font-weight: 500;\n",
       "}\n",
       "\n",
       ".xr-section-summary > span {\n",
       "  display: inline-block;\n",
       "  padding-left: 0.5em;\n",
       "}\n",
       "\n",
       ".xr-section-summary-in:disabled + label {\n",
       "  color: var(--xr-font-color2);\n",
       "}\n",
       "\n",
       ".xr-section-summary-in + label:before {\n",
       "  display: inline-block;\n",
       "  content: '►';\n",
       "  font-size: 11px;\n",
       "  width: 15px;\n",
       "  text-align: center;\n",
       "}\n",
       "\n",
       ".xr-section-summary-in:disabled + label:before {\n",
       "  color: var(--xr-disabled-color);\n",
       "}\n",
       "\n",
       ".xr-section-summary-in:checked + label:before {\n",
       "  content: '▼';\n",
       "}\n",
       "\n",
       ".xr-section-summary-in:checked + label > span {\n",
       "  display: none;\n",
       "}\n",
       "\n",
       ".xr-section-summary,\n",
       ".xr-section-inline-details {\n",
       "  padding-top: 4px;\n",
       "  padding-bottom: 4px;\n",
       "}\n",
       "\n",
       ".xr-section-inline-details {\n",
       "  grid-column: 2 / -1;\n",
       "}\n",
       "\n",
       ".xr-section-details {\n",
       "  display: none;\n",
       "  grid-column: 1 / -1;\n",
       "  margin-bottom: 5px;\n",
       "}\n",
       "\n",
       ".xr-section-summary-in:checked ~ .xr-section-details {\n",
       "  display: contents;\n",
       "}\n",
       "\n",
       ".xr-array-wrap {\n",
       "  grid-column: 1 / -1;\n",
       "  display: grid;\n",
       "  grid-template-columns: 20px auto;\n",
       "}\n",
       "\n",
       ".xr-array-wrap > label {\n",
       "  grid-column: 1;\n",
       "  vertical-align: top;\n",
       "}\n",
       "\n",
       ".xr-preview {\n",
       "  color: var(--xr-font-color3);\n",
       "}\n",
       "\n",
       ".xr-array-preview,\n",
       ".xr-array-data {\n",
       "  padding: 0 5px !important;\n",
       "  grid-column: 2;\n",
       "}\n",
       "\n",
       ".xr-array-data,\n",
       ".xr-array-in:checked ~ .xr-array-preview {\n",
       "  display: none;\n",
       "}\n",
       "\n",
       ".xr-array-in:checked ~ .xr-array-data,\n",
       ".xr-array-preview {\n",
       "  display: inline-block;\n",
       "}\n",
       "\n",
       ".xr-dim-list {\n",
       "  display: inline-block !important;\n",
       "  list-style: none;\n",
       "  padding: 0 !important;\n",
       "  margin: 0;\n",
       "}\n",
       "\n",
       ".xr-dim-list li {\n",
       "  display: inline-block;\n",
       "  padding: 0;\n",
       "  margin: 0;\n",
       "}\n",
       "\n",
       ".xr-dim-list:before {\n",
       "  content: '(';\n",
       "}\n",
       "\n",
       ".xr-dim-list:after {\n",
       "  content: ')';\n",
       "}\n",
       "\n",
       ".xr-dim-list li:not(:last-child):after {\n",
       "  content: ',';\n",
       "  padding-right: 5px;\n",
       "}\n",
       "\n",
       ".xr-has-index {\n",
       "  font-weight: bold;\n",
       "}\n",
       "\n",
       ".xr-var-list,\n",
       ".xr-var-item {\n",
       "  display: contents;\n",
       "}\n",
       "\n",
       ".xr-var-item > div,\n",
       ".xr-var-item label,\n",
       ".xr-var-item > .xr-var-name span {\n",
       "  background-color: var(--xr-background-color-row-even);\n",
       "  margin-bottom: 0;\n",
       "}\n",
       "\n",
       ".xr-var-item > .xr-var-name:hover span {\n",
       "  padding-right: 5px;\n",
       "}\n",
       "\n",
       ".xr-var-list > li:nth-child(odd) > div,\n",
       ".xr-var-list > li:nth-child(odd) > label,\n",
       ".xr-var-list > li:nth-child(odd) > .xr-var-name span {\n",
       "  background-color: var(--xr-background-color-row-odd);\n",
       "}\n",
       "\n",
       ".xr-var-name {\n",
       "  grid-column: 1;\n",
       "}\n",
       "\n",
       ".xr-var-dims {\n",
       "  grid-column: 2;\n",
       "}\n",
       "\n",
       ".xr-var-dtype {\n",
       "  grid-column: 3;\n",
       "  text-align: right;\n",
       "  color: var(--xr-font-color2);\n",
       "}\n",
       "\n",
       ".xr-var-preview {\n",
       "  grid-column: 4;\n",
       "}\n",
       "\n",
       ".xr-var-name,\n",
       ".xr-var-dims,\n",
       ".xr-var-dtype,\n",
       ".xr-preview,\n",
       ".xr-attrs dt {\n",
       "  white-space: nowrap;\n",
       "  overflow: hidden;\n",
       "  text-overflow: ellipsis;\n",
       "  padding-right: 10px;\n",
       "}\n",
       "\n",
       ".xr-var-name:hover,\n",
       ".xr-var-dims:hover,\n",
       ".xr-var-dtype:hover,\n",
       ".xr-attrs dt:hover {\n",
       "  overflow: visible;\n",
       "  width: auto;\n",
       "  z-index: 1;\n",
       "}\n",
       "\n",
       ".xr-var-attrs,\n",
       ".xr-var-data {\n",
       "  display: none;\n",
       "  background-color: var(--xr-background-color) !important;\n",
       "  padding-bottom: 5px !important;\n",
       "}\n",
       "\n",
       ".xr-var-attrs-in:checked ~ .xr-var-attrs,\n",
       ".xr-var-data-in:checked ~ .xr-var-data {\n",
       "  display: block;\n",
       "}\n",
       "\n",
       ".xr-var-data > table {\n",
       "  float: right;\n",
       "}\n",
       "\n",
       ".xr-var-name span,\n",
       ".xr-var-data,\n",
       ".xr-attrs {\n",
       "  padding-left: 25px !important;\n",
       "}\n",
       "\n",
       ".xr-attrs,\n",
       ".xr-var-attrs,\n",
       ".xr-var-data {\n",
       "  grid-column: 1 / -1;\n",
       "}\n",
       "\n",
       "dl.xr-attrs {\n",
       "  padding: 0;\n",
       "  margin: 0;\n",
       "  display: grid;\n",
       "  grid-template-columns: 125px auto;\n",
       "}\n",
       "\n",
       ".xr-attrs dt, dd {\n",
       "  padding: 0;\n",
       "  margin: 0;\n",
       "  float: left;\n",
       "  padding-right: 10px;\n",
       "  width: auto;\n",
       "}\n",
       "\n",
       ".xr-attrs dt {\n",
       "  font-weight: normal;\n",
       "  grid-column: 1;\n",
       "}\n",
       "\n",
       ".xr-attrs dt:hover span {\n",
       "  display: inline-block;\n",
       "  background: var(--xr-background-color);\n",
       "  padding-right: 10px;\n",
       "}\n",
       "\n",
       ".xr-attrs dd {\n",
       "  grid-column: 2;\n",
       "  white-space: pre-wrap;\n",
       "  word-break: break-all;\n",
       "}\n",
       "\n",
       ".xr-icon-database,\n",
       ".xr-icon-file-text2 {\n",
       "  display: inline-block;\n",
       "  vertical-align: middle;\n",
       "  width: 1em;\n",
       "  height: 1.5em !important;\n",
       "  stroke-width: 0;\n",
       "  stroke: currentColor;\n",
       "  fill: currentColor;\n",
       "}\n",
       "</style><div class='xr-wrap'><div class='xr-header'><div class='xr-obj-type'>xarray.Dataset</div></div><ul class='xr-sections'><li class='xr-section-item'><input id='section-4493d93d-2f9e-4252-b81d-b2865042b42e' class='xr-section-summary-in' type='checkbox' disabled ><label for='section-4493d93d-2f9e-4252-b81d-b2865042b42e' class='xr-section-summary'  title='Expand/collapse section'>Dimensions:</label><div class='xr-section-inline-details'></div><div class='xr-section-details'></div></li><li class='xr-section-item'><input id='section-b6f24742-592b-454a-9a64-d376d5b19449' class='xr-section-summary-in' type='checkbox' disabled ><label for='section-b6f24742-592b-454a-9a64-d376d5b19449' class='xr-section-summary'  title='Expand/collapse section'>Coordinates: <span>(0)</span></label><div class='xr-section-inline-details'></div><div class='xr-section-details'><ul class='xr-var-list'></ul></div></li><li class='xr-section-item'><input id='section-7a599288-ed8e-45e2-9734-fd5d68abfaf8' class='xr-section-summary-in' type='checkbox' disabled ><label for='section-7a599288-ed8e-45e2-9734-fd5d68abfaf8' class='xr-section-summary'  title='Expand/collapse section'>Data variables: <span>(0)</span></label><div class='xr-section-inline-details'></div><div class='xr-section-details'><ul class='xr-var-list'></ul></div></li><li class='xr-section-item'><input id='section-c956b27a-3aa7-43df-b9a8-1b467c284db4' class='xr-section-summary-in' type='checkbox'  ><label for='section-c956b27a-3aa7-43df-b9a8-1b467c284db4' class='xr-section-summary' >Attributes: <span>(52)</span></label><div class='xr-section-inline-details'></div><div class='xr-section-details'><dl class='xr-attrs'><dt><span>Conventions :</span></dt><dd>CF-1.7</dd><dt><span>institution :</span></dt><dd>KNMI</dd><dt><span>source :</span></dt><dd>Sentinel 5 precursor, TROPOMI, space-borne remote sensing, L2</dd><dt><span>history :</span></dt><dd>2020-04-20 05:00:09 f_s5pops tropnll2dp /mnt/data1/storage_nrt/cache_nrt/WORKING-619562197/JobOrder.619561024.xml</dd><dt><span>summary :</span></dt><dd>TROPOMI/S5P NO2 1-Orbit L2 Swath 7x3.5km</dd><dt><span>tracking_id :</span></dt><dd>fe726e65-9ce1-4ab3-8d20-bf0489428f01</dd><dt><span>id :</span></dt><dd>S5P_NRTI_L2__NO2____20200420T041948_20200420T042448_13049_01_010302_20200420T045750</dd><dt><span>time_reference :</span></dt><dd>2020-04-20T00:00:00Z</dd><dt><span>time_reference_days_since_1950 :</span></dt><dd>25677</dd><dt><span>time_reference_julian_day :</span></dt><dd>2458959.5</dd><dt><span>time_reference_seconds_since_1970 :</span></dt><dd>1587340800</dd><dt><span>time_coverage_start :</span></dt><dd>2020-04-20T04:19:43Z</dd><dt><span>time_coverage_end :</span></dt><dd>2020-04-20T04:24:54Z</dd><dt><span>time_coverage_duration :</span></dt><dd>PT311.633S</dd><dt><span>time_coverage_resolution :</span></dt><dd>PT0.840S</dd><dt><span>orbit :</span></dt><dd>13049</dd><dt><span>references :</span></dt><dd>http://www.tropomi.eu/data-products/nitrogen-dioxide</dd><dt><span>processor_version :</span></dt><dd>1.3.2</dd><dt><span>keywords_vocabulary :</span></dt><dd>AGU index terms, http://publications.agu.org/author-resource-center/index-terms/</dd><dt><span>keywords :</span></dt><dd>0345 Pollution, Urban and Regional; 0365 Troposphere, Composition and Chemistry; 0368 Troposphere, Constituent Transport and Chemistry; 3360 Remote Sensing; 3363 Stratospheric Dynamics</dd><dt><span>standard_name_vocabulary :</span></dt><dd>NetCDF Climate and Forecast Metadata Conventions Standard Name Table (v29, 08 July 2015), http://cfconventions.org/standard-names.html</dd><dt><span>naming_authority :</span></dt><dd>nl.knmi</dd><dt><span>cdm_data_type :</span></dt><dd>Swath</dd><dt><span>date_created :</span></dt><dd>2020-04-20T04:58:10Z</dd><dt><span>creator_name :</span></dt><dd>The Sentinel 5 Precursor TROPOMI Level 2 products are developed with funding from the European Space Agency (ESA), the Netherlands Space Office (NSO), the Belgian Science Policy Office, the German Aerospace Center (DLR) and the Bayerisches Staatsministerium für Wirtschaft und Medien, Energie und Technologie (StMWi).</dd><dt><span>creator_url :</span></dt><dd>http://www.tropomi.eu</dd><dt><span>creator_email :</span></dt><dd>EOSupport@Copernicus.esa.int</dd><dt><span>project :</span></dt><dd>Sentinel 5 precursor/TROPOMI</dd><dt><span>geospatial_lat_min :</span></dt><dd>32.3197</dd><dt><span>geospatial_lat_max :</span></dt><dd>56.392887</dd><dt><span>geospatial_lon_min :</span></dt><dd>146.04317</dd><dt><span>geospatial_lon_max :</span></dt><dd>105.9501</dd><dt><span>license :</span></dt><dd>No conditions apply</dd><dt><span>platform :</span></dt><dd>S5P</dd><dt><span>sensor :</span></dt><dd>TROPOMI</dd><dt><span>spatial_resolution :</span></dt><dd>7x3.5km2</dd><dt><span>cpp_compiler_version :</span></dt><dd>g++ (GCC) 4.8.5 20150623 (Red Hat 4.8.5-11)</dd><dt><span>cpp_compiler_flags :</span></dt><dd>-g -O2 -fPIC -std=c++11 -W -Wall -Wno-ignored-qualifiers -Wno-write-strings -Wno-unused-variable -DTROPNLL2DP</dd><dt><span>f90_compiler_version :</span></dt><dd>GNU Fortran (GCC) 4.8.5 20150623 (Red Hat 4.8.5-11)</dd><dt><span>f90_compiler_flags :</span></dt><dd>-gdwarf-3 -O2 -fPIC -cpp -ffpe-trap=invalid -fno-range-check -frecursive -fimplicit-none -ffree-line-length-none -DTROPNLL2DP -Wuninitialized -Wtabs</dd><dt><span>build_date :</span></dt><dd>2019-04-05T12:04:00Z</dd><dt><span>revision_control_identifier :</span></dt><dd></dd><dt><span>geolocation_grid_from_band :</span></dt><dd>4</dd><dt><span>identifier_product_doi :</span></dt><dd>N/A</dd><dt><span>identifier_product_doi_authority :</span></dt><dd>http://dx.doi.org/</dd><dt><span>algorithm_version :</span></dt><dd>1.3.0</dd><dt><span>title :</span></dt><dd>TROPOMI/S5P NO2 1-Orbit L2 Swath 7x3.5km</dd><dt><span>processing_status :</span></dt><dd>NRTI-processing product</dd><dt><span>product_version :</span></dt><dd>1.1.0</dd><dt><span>Status_MET_2D :</span></dt><dd>Nominal</dd><dt><span>Status_NISE__ :</span></dt><dd>Nominal</dd><dt><span>Status_CTMFCT :</span></dt><dd>Nominal</dd></dl></div></li></ul></div></div>"
      ],
      "text/plain": [
       "<xarray.Dataset>\n",
       "Dimensions:  ()\n",
       "Data variables:\n",
       "    *empty*\n",
       "Attributes:\n",
       "    Conventions:                        CF-1.7\n",
       "    institution:                        KNMI\n",
       "    source:                             Sentinel 5 precursor, TROPOMI, space-...\n",
       "    history:                            2020-04-20 05:00:09 f_s5pops tropnll2...\n",
       "    summary:                            TROPOMI/S5P NO2 1-Orbit L2 Swath 7x3.5km\n",
       "    tracking_id:                        fe726e65-9ce1-4ab3-8d20-bf0489428f01\n",
       "    id:                                 S5P_NRTI_L2__NO2____20200420T041948_2...\n",
       "    time_reference:                     2020-04-20T00:00:00Z\n",
       "    time_reference_days_since_1950:     25677\n",
       "    time_reference_julian_day:          2458959.5\n",
       "    time_reference_seconds_since_1970:  1587340800\n",
       "    time_coverage_start:                2020-04-20T04:19:43Z\n",
       "    time_coverage_end:                  2020-04-20T04:24:54Z\n",
       "    time_coverage_duration:             PT311.633S\n",
       "    time_coverage_resolution:           PT0.840S\n",
       "    orbit:                              13049\n",
       "    references:                         http://www.tropomi.eu/data-products/n...\n",
       "    processor_version:                  1.3.2\n",
       "    keywords_vocabulary:                AGU index terms, http://publications....\n",
       "    keywords:                           0345 Pollution, Urban and Regional; 0...\n",
       "    standard_name_vocabulary:           NetCDF Climate and Forecast Metadata ...\n",
       "    naming_authority:                   nl.knmi\n",
       "    cdm_data_type:                      Swath\n",
       "    date_created:                       2020-04-20T04:58:10Z\n",
       "    creator_name:                       The Sentinel 5 Precursor TROPOMI Leve...\n",
       "    creator_url:                        http://www.tropomi.eu\n",
       "    creator_email:                      EOSupport@Copernicus.esa.int\n",
       "    project:                            Sentinel 5 precursor/TROPOMI\n",
       "    geospatial_lat_min:                 32.3197\n",
       "    geospatial_lat_max:                 56.392887\n",
       "    geospatial_lon_min:                 146.04317\n",
       "    geospatial_lon_max:                 105.9501\n",
       "    license:                            No conditions apply\n",
       "    platform:                           S5P\n",
       "    sensor:                             TROPOMI\n",
       "    spatial_resolution:                 7x3.5km2\n",
       "    cpp_compiler_version:               g++ (GCC) 4.8.5 20150623 (Red Hat 4.8...\n",
       "    cpp_compiler_flags:                 -g -O2 -fPIC -std=c++11 -W -Wall -Wno...\n",
       "    f90_compiler_version:               GNU Fortran (GCC) 4.8.5 20150623 (Red...\n",
       "    f90_compiler_flags:                 -gdwarf-3 -O2 -fPIC -cpp -ffpe-trap=i...\n",
       "    build_date:                         2019-04-05T12:04:00Z\n",
       "    revision_control_identifier:        \n",
       "    geolocation_grid_from_band:         4\n",
       "    identifier_product_doi:             N/A\n",
       "    identifier_product_doi_authority:   http://dx.doi.org/\n",
       "    algorithm_version:                  1.3.0\n",
       "    title:                              TROPOMI/S5P NO2 1-Orbit L2 Swath 7x3.5km\n",
       "    processing_status:                  NRTI-processing product\n",
       "    product_version:                    1.1.0\n",
       "    Status_MET_2D:                      Nominal\n",
       "    Status_NISE__:                      Nominal\n",
       "    Status_CTMFCT:                      Nominal"
      ]
     },
     "execution_count": 7,
     "metadata": {},
     "output_type": "execute_result"
    }
   ],
   "source": [
    "xarrayData"
   ]
  },
  {
   "cell_type": "code",
   "execution_count": 8,
   "metadata": {},
   "outputs": [
    {
     "data": {
      "text/plain": [
       "odict_keys(['PRODUCT', 'METADATA'])"
      ]
     },
     "execution_count": 8,
     "metadata": {},
     "output_type": "execute_result"
    }
   ],
   "source": [
    "dataset.groups.keys()"
   ]
  },
  {
   "cell_type": "code",
   "execution_count": 9,
   "metadata": {},
   "outputs": [],
   "source": [
    "metadata = dataset.groups['METADATA']"
   ]
  },
  {
   "cell_type": "code",
   "execution_count": 10,
   "metadata": {},
   "outputs": [
    {
     "name": "stdout",
     "output_type": "stream",
     "text": [
      "<class 'netCDF4._netCDF4.Group'>\n",
      "group /METADATA:\n",
      "    dimensions(sizes): \n",
      "    variables(dimensions): \n",
      "    groups: QA_STATISTICS, ALGORITHM_SETTINGS, GRANULE_DESCRIPTION, ISO_METADATA, EOP_METADATA, ESA_METADATA\n",
      "\n"
     ]
    }
   ],
   "source": [
    "print(metadata)"
   ]
  },
  {
   "cell_type": "code",
   "execution_count": 11,
   "metadata": {},
   "outputs": [],
   "source": [
    "product = dataset.groups['PRODUCT']"
   ]
  },
  {
   "cell_type": "code",
   "execution_count": 12,
   "metadata": {},
   "outputs": [
    {
     "data": {
      "text/plain": [
       "odict_keys(['scanline', 'ground_pixel', 'time', 'corner', 'polynomial_exponents', 'intensity_offset_polynomial_exponents', 'layer', 'vertices', 'latitude', 'longitude', 'delta_time', 'time_utc', 'qa_value', 'nitrogendioxide_tropospheric_column', 'nitrogendioxide_tropospheric_column_precision', 'nitrogendioxide_tropospheric_column_precision_kernel', 'averaging_kernel', 'air_mass_factor_troposphere', 'air_mass_factor_total', 'tm5_tropopause_layer_index', 'tm5_constant_a', 'tm5_constant_b'])"
      ]
     },
     "execution_count": 12,
     "metadata": {},
     "output_type": "execute_result"
    }
   ],
   "source": [
    "product.variables.keys()"
   ]
  },
  {
   "cell_type": "code",
   "execution_count": 13,
   "metadata": {},
   "outputs": [],
   "source": [
    "latitude = product.variables['latitude']"
   ]
  },
  {
   "cell_type": "code",
   "execution_count": 14,
   "metadata": {},
   "outputs": [
    {
     "data": {
      "text/plain": [
       "masked_array(data=[32.364525, 32.40721 , 32.449253, 32.49067 , 32.53147 ,\n",
       "                   32.57168 , 32.61131 , 32.65037 , 32.688885, 32.726864,\n",
       "                   32.76432 , 32.801266, 32.83771 , 32.873672, 32.90916 ,\n",
       "                   32.944183, 32.978756, 33.012882, 33.04658 , 33.079853,\n",
       "                   33.112713, 33.14517 , 33.193108, 33.255695, 33.316814,\n",
       "                   33.37652 , 33.43487 , 33.491924, 33.54772 , 33.602318,\n",
       "                   33.655754, 33.708073, 33.75931 , 33.80951 , 33.858704,\n",
       "                   33.906925, 33.954212, 34.00059 , 34.046093, 34.090748,\n",
       "                   34.134575, 34.17761 , 34.219868, 34.261375, 34.30216 ],\n",
       "             mask=False,\n",
       "       fill_value=1e+20,\n",
       "            dtype=float32)"
      ]
     },
     "execution_count": 14,
     "metadata": {},
     "output_type": "execute_result"
    }
   ],
   "source": [
    "latitude[0][0][0:45]"
   ]
  },
  {
   "cell_type": "code",
   "execution_count": 15,
   "metadata": {},
   "outputs": [],
   "source": [
    "longitude = product.variables['longitude']"
   ]
  },
  {
   "cell_type": "code",
   "execution_count": 16,
   "metadata": {},
   "outputs": [
    {
     "data": {
      "text/plain": [
       "masked_array(data=[117.091576, 117.17803 , 117.26339 , 117.34767 ,\n",
       "                   117.43091 , 117.51313 , 117.59435 , 117.674614,\n",
       "                   117.75393 , 117.83231 , 117.909805, 117.98641 ,\n",
       "                   118.062164, 118.13708 , 118.21117 , 118.284454,\n",
       "                   118.35695 , 118.42869 , 118.49967 , 118.569916,\n",
       "                   118.63944 , 118.70827 , 118.81021 , 118.9438  ,\n",
       "                   119.07482 , 119.20337 , 119.32954 , 119.45342 ,\n",
       "                   119.575096, 119.69465 , 119.81216 , 119.92768 ,\n",
       "                   120.04129 , 120.15306 , 120.26305 , 120.3713  ,\n",
       "                   120.47788 , 120.582855, 120.68626 , 120.78814 ,\n",
       "                   120.88854 , 120.987526, 121.08512 , 121.181366,\n",
       "                   121.276306],\n",
       "             mask=False,\n",
       "       fill_value=1e+20,\n",
       "            dtype=float32)"
      ]
     },
     "execution_count": 16,
     "metadata": {},
     "output_type": "execute_result"
    }
   ],
   "source": [
    "longitude[0][0][0:45]"
   ]
  },
  {
   "cell_type": "code",
   "execution_count": 17,
   "metadata": {},
   "outputs": [],
   "source": [
    "nitroTropo = product.variables['nitrogendioxide_tropospheric_column']"
   ]
  },
  {
   "cell_type": "code",
   "execution_count": 18,
   "metadata": {},
   "outputs": [
    {
     "data": {
      "text/plain": [
       "masked_array(data=[--, 0.00029333896236494184, 0.00015176030865404755,\n",
       "                   -8.594623795943335e-05, -0.00018472828378435224,\n",
       "                   0.00013108020357321948, 3.5782937629846856e-05,\n",
       "                   0.00013355053670238703, -8.836267079459503e-05,\n",
       "                   -3.3673582947812974e-05, -0.00012596248416230083,\n",
       "                   5.52460624021478e-05, -7.561625352536794e-06,\n",
       "                   6.601205677725375e-05, 2.7593776394496672e-05,\n",
       "                   -4.817321951122722e-06, -6.170802225824445e-05,\n",
       "                   3.2219697459368035e-05, 3.379345071152784e-05,\n",
       "                   -1.8966382413054816e-05, -7.772228855174035e-05,\n",
       "                   7.08587140252348e-06, 9.318278898717836e-05,\n",
       "                   8.878078369889408e-05, 0.00019192176114302129,\n",
       "                   0.0001670387719059363, 6.84849001117982e-05,\n",
       "                   0.00011642745084827766, 9.710288577480242e-05,\n",
       "                   8.619252912467346e-05, 3.886307604261674e-05,\n",
       "                   4.238674955558963e-05, 4.434277070686221e-05,\n",
       "                   5.7347129768459126e-05, 5.491163756232709e-05,\n",
       "                   7.256967364810407e-05, 7.716917025391012e-05,\n",
       "                   5.507427704287693e-05, 6.113409472163767e-05,\n",
       "                   5.969830817775801e-05, 6.738438969478011e-05,\n",
       "                   7.22130571375601e-05, 5.426971256383695e-05,\n",
       "                   7.307521445909515e-05, 5.956107270321809e-05],\n",
       "             mask=[ True, False, False, False, False, False, False, False,\n",
       "                   False, False, False, False, False, False, False, False,\n",
       "                   False, False, False, False, False, False, False, False,\n",
       "                   False, False, False, False, False, False, False, False,\n",
       "                   False, False, False, False, False, False, False, False,\n",
       "                   False, False, False, False, False],\n",
       "       fill_value=9.96921e+36,\n",
       "            dtype=float32)"
      ]
     },
     "execution_count": 18,
     "metadata": {},
     "output_type": "execute_result"
    }
   ],
   "source": [
    "nitroTropo[0][0][0:45]"
   ]
  },
  {
   "cell_type": "code",
   "execution_count": 19,
   "metadata": {},
   "outputs": [],
   "source": [
    "qaValue = product.variables['qa_value']"
   ]
  },
  {
   "cell_type": "code",
   "execution_count": 20,
   "metadata": {},
   "outputs": [
    {
     "data": {
      "text/plain": [
       "masked_array(data=[0.        , 0.32999998, 0.32999998, 0.32999998,\n",
       "                   0.32999998, 0.32999998, 0.32999998, 0.32999998,\n",
       "                   0.32999998, 0.32999998, 0.32999998, 0.32999998,\n",
       "                   0.32999998, 0.32999998, 0.32999998, 0.32999998,\n",
       "                   0.32999998, 0.32999998, 0.32999998, 0.32999998,\n",
       "                   0.32999998, 0.32999998, 0.32999998, 0.32999998,\n",
       "                   0.32999998, 0.32999998, 0.32999998, 0.32999998,\n",
       "                   0.32999998, 0.74      , 0.74      , 0.74      ,\n",
       "                   0.74      , 0.74      , 0.74      , 0.74      ,\n",
       "                   0.74      , 0.74      , 0.74      , 0.74      ,\n",
       "                   0.74      , 0.74      , 0.74      , 0.74      ,\n",
       "                   0.74      ],\n",
       "             mask=False,\n",
       "       fill_value=1e+20,\n",
       "            dtype=float32)"
      ]
     },
     "execution_count": 20,
     "metadata": {},
     "output_type": "execute_result"
    }
   ],
   "source": [
    "qaValue[0][0][0:45]"
   ]
  },
  {
   "cell_type": "code",
   "execution_count": 21,
   "metadata": {},
   "outputs": [
    {
     "data": {
      "text/plain": [
       "masked_array(data=[0.00029333896236494184, 0.00015176030865404755,\n",
       "                   -8.594623795943335e-05, -0.00018472828378435224,\n",
       "                   0.00013108020357321948, 3.5782937629846856e-05,\n",
       "                   0.00013355053670238703, -8.836267079459503e-05,\n",
       "                   -3.3673582947812974e-05, -0.00012596248416230083,\n",
       "                   5.52460624021478e-05],\n",
       "             mask=[False, False, False, False, False, False, False, False,\n",
       "                   False, False, False],\n",
       "       fill_value=9.96921e+36,\n",
       "            dtype=float32)"
      ]
     },
     "execution_count": 21,
     "metadata": {},
     "output_type": "execute_result"
    }
   ],
   "source": [
    "nitroTropo[0][0][1:12]"
   ]
  },
  {
   "cell_type": "code",
   "execution_count": 22,
   "metadata": {},
   "outputs": [
    {
     "data": {
      "text/plain": [
       "masked_array(data=[0.        , 0.32999998, 0.32999998, 0.32999998,\n",
       "                   0.32999998, 0.32999998, 0.32999998, 0.32999998,\n",
       "                   0.32999998, 0.32999998, 0.32999998, 0.32999998,\n",
       "                   0.32999998, 0.32999998, 0.32999998, 0.32999998,\n",
       "                   0.32999998, 0.32999998, 0.32999998, 0.32999998,\n",
       "                   0.32999998, 0.32999998, 0.32999998, 0.32999998,\n",
       "                   0.32999998, 0.32999998, 0.32999998, 0.32999998,\n",
       "                   0.32999998, 0.74      , 0.74      , 0.74      ,\n",
       "                   0.74      , 0.74      , 0.74      , 0.74      ,\n",
       "                   0.74      , 0.74      , 0.74      , 0.74      ,\n",
       "                   0.74      , 0.74      , 0.74      , 0.74      ,\n",
       "                   0.74      ],\n",
       "             mask=False,\n",
       "       fill_value=1e+20,\n",
       "            dtype=float32)"
      ]
     },
     "execution_count": 22,
     "metadata": {},
     "output_type": "execute_result"
    }
   ],
   "source": [
    "qaValue[0][0][0:45]"
   ]
  },
  {
   "cell_type": "code",
   "execution_count": 23,
   "metadata": {},
   "outputs": [],
   "source": [
    "time  = product.variables['time_utc']"
   ]
  },
  {
   "cell_type": "code",
   "execution_count": 24,
   "metadata": {},
   "outputs": [],
   "source": [
    "df = pd.DataFrame({'longitude': longitude[0][0],\n",
    "                  'latitude': latitude[0][0],\n",
    "                  'nitroTropo': nitroTropo[0][0],\n",
    "                  'qaValue': qaValue[0][0],\n",
    "                  'time': time[0][0]})"
   ]
  },
  {
   "cell_type": "code",
   "execution_count": 25,
   "metadata": {},
   "outputs": [],
   "source": [
    "df = df.dropna()"
   ]
  },
  {
   "cell_type": "code",
   "execution_count": 26,
   "metadata": {},
   "outputs": [],
   "source": [
    "df['datetime'] = pd.to_datetime(df.time)"
   ]
  },
  {
   "cell_type": "code",
   "execution_count": 27,
   "metadata": {},
   "outputs": [],
   "source": [
    "df.set_index(df.datetime, inplace=True)"
   ]
  },
  {
   "cell_type": "code",
   "execution_count": 28,
   "metadata": {},
   "outputs": [],
   "source": [
    "df = df.drop(['time','datetime'], axis=1)"
   ]
  },
  {
   "cell_type": "code",
   "execution_count": 29,
   "metadata": {},
   "outputs": [],
   "source": [
    "geoDF = gpd.GeoDataFrame(df, geometry=gpd.points_from_xy(df.longitude, df.latitude))"
   ]
  },
  {
   "cell_type": "code",
   "execution_count": 30,
   "metadata": {},
   "outputs": [
    {
     "data": {
      "text/html": [
       "<div>\n",
       "<style scoped>\n",
       "    .dataframe tbody tr th:only-of-type {\n",
       "        vertical-align: middle;\n",
       "    }\n",
       "\n",
       "    .dataframe tbody tr th {\n",
       "        vertical-align: top;\n",
       "    }\n",
       "\n",
       "    .dataframe thead th {\n",
       "        text-align: right;\n",
       "    }\n",
       "</style>\n",
       "<table border=\"1\" class=\"dataframe\">\n",
       "  <thead>\n",
       "    <tr style=\"text-align: right;\">\n",
       "      <th></th>\n",
       "      <th>longitude</th>\n",
       "      <th>latitude</th>\n",
       "      <th>nitroTropo</th>\n",
       "      <th>qaValue</th>\n",
       "      <th>geometry</th>\n",
       "    </tr>\n",
       "    <tr>\n",
       "      <th>datetime</th>\n",
       "      <th></th>\n",
       "      <th></th>\n",
       "      <th></th>\n",
       "      <th></th>\n",
       "      <th></th>\n",
       "    </tr>\n",
       "  </thead>\n",
       "  <tbody>\n",
       "    <tr>\n",
       "      <th>2020-04-20 04:19:43.197000+00:00</th>\n",
       "      <td>117.178032</td>\n",
       "      <td>32.407211</td>\n",
       "      <td>0.000293</td>\n",
       "      <td>0.33</td>\n",
       "      <td>POINT (117.17803 32.40721)</td>\n",
       "    </tr>\n",
       "    <tr>\n",
       "      <th>2020-04-20 04:19:43.197000+00:00</th>\n",
       "      <td>117.263390</td>\n",
       "      <td>32.449253</td>\n",
       "      <td>0.000152</td>\n",
       "      <td>0.33</td>\n",
       "      <td>POINT (117.26339 32.44925)</td>\n",
       "    </tr>\n",
       "    <tr>\n",
       "      <th>2020-04-20 04:19:43.197000+00:00</th>\n",
       "      <td>117.347672</td>\n",
       "      <td>32.490669</td>\n",
       "      <td>-0.000086</td>\n",
       "      <td>0.33</td>\n",
       "      <td>POINT (117.34767 32.49067)</td>\n",
       "    </tr>\n",
       "    <tr>\n",
       "      <th>2020-04-20 04:19:43.197000+00:00</th>\n",
       "      <td>117.430908</td>\n",
       "      <td>32.531471</td>\n",
       "      <td>-0.000185</td>\n",
       "      <td>0.33</td>\n",
       "      <td>POINT (117.43091 32.53147)</td>\n",
       "    </tr>\n",
       "    <tr>\n",
       "      <th>2020-04-20 04:19:43.197000+00:00</th>\n",
       "      <td>117.513130</td>\n",
       "      <td>32.571678</td>\n",
       "      <td>0.000131</td>\n",
       "      <td>0.33</td>\n",
       "      <td>POINT (117.51313 32.57168)</td>\n",
       "    </tr>\n",
       "  </tbody>\n",
       "</table>\n",
       "</div>"
      ],
      "text/plain": [
       "                                   longitude   latitude  nitroTropo  qaValue  \\\n",
       "datetime                                                                       \n",
       "2020-04-20 04:19:43.197000+00:00  117.178032  32.407211    0.000293     0.33   \n",
       "2020-04-20 04:19:43.197000+00:00  117.263390  32.449253    0.000152     0.33   \n",
       "2020-04-20 04:19:43.197000+00:00  117.347672  32.490669   -0.000086     0.33   \n",
       "2020-04-20 04:19:43.197000+00:00  117.430908  32.531471   -0.000185     0.33   \n",
       "2020-04-20 04:19:43.197000+00:00  117.513130  32.571678    0.000131     0.33   \n",
       "\n",
       "                                                    geometry  \n",
       "datetime                                                      \n",
       "2020-04-20 04:19:43.197000+00:00  POINT (117.17803 32.40721)  \n",
       "2020-04-20 04:19:43.197000+00:00  POINT (117.26339 32.44925)  \n",
       "2020-04-20 04:19:43.197000+00:00  POINT (117.34767 32.49067)  \n",
       "2020-04-20 04:19:43.197000+00:00  POINT (117.43091 32.53147)  \n",
       "2020-04-20 04:19:43.197000+00:00  POINT (117.51313 32.57168)  "
      ]
     },
     "execution_count": 30,
     "metadata": {},
     "output_type": "execute_result"
    }
   ],
   "source": [
    "geoDF.head()"
   ]
  },
  {
   "cell_type": "code",
   "execution_count": 31,
   "metadata": {},
   "outputs": [
    {
     "data": {
      "text/plain": [
       "<matplotlib.axes._subplots.AxesSubplot at 0x32a15f2e8>"
      ]
     },
     "execution_count": 31,
     "metadata": {},
     "output_type": "execute_result"
    },
    {
     "data": {
      "image/png": "[encoded data removed]",
      "text/plain": [
       "<Figure size 1080x720 with 1 Axes>"
      ]
     },
     "metadata": {
      "needs_background": "light"
     },
     "output_type": "display_data"
    }
   ],
   "source": [
    "geoDF.plot(figsize=(15,10))"
   ]
  },
  {
   "cell_type": "code",
   "execution_count": 68,
   "metadata": {},
   "outputs": [],
   "source": [
    "token = 'pk.eyJ1Ijoia2V2aW5ib3lsZTc3MTciLCJhIjoiY2s5aWl6enFpMDI3eDNubjJvZWdiMTdzYSJ9.VKSafIe0zsLVMCswKycFyQ'"
   ]
  },
  {
   "cell_type": "code",
   "execution_count": 69,
   "metadata": {},
   "outputs": [
    {
     "data": {
      "text/html": [
       "<div>\n",
       "<style scoped>\n",
       "    .dataframe tbody tr th:only-of-type {\n",
       "        vertical-align: middle;\n",
       "    }\n",
       "\n",
       "    .dataframe tbody tr th {\n",
       "        vertical-align: top;\n",
       "    }\n",
       "\n",
       "    .dataframe thead th {\n",
       "        text-align: right;\n",
       "    }\n",
       "</style>\n",
       "<table border=\"1\" class=\"dataframe\">\n",
       "  <thead>\n",
       "    <tr style=\"text-align: right;\">\n",
       "      <th></th>\n",
       "      <th>longitude</th>\n",
       "      <th>latitude</th>\n",
       "      <th>nitroTropo</th>\n",
       "      <th>qaValue</th>\n",
       "      <th>geometry</th>\n",
       "    </tr>\n",
       "    <tr>\n",
       "      <th>datetime</th>\n",
       "      <th></th>\n",
       "      <th></th>\n",
       "      <th></th>\n",
       "      <th></th>\n",
       "      <th></th>\n",
       "    </tr>\n",
       "  </thead>\n",
       "  <tbody>\n",
       "    <tr>\n",
       "      <th>2020-04-20 04:19:43.197000+00:00</th>\n",
       "      <td>117.178032</td>\n",
       "      <td>32.407211</td>\n",
       "      <td>0.000293</td>\n",
       "      <td>0.33</td>\n",
       "      <td>POINT (117.17803 32.40721)</td>\n",
       "    </tr>\n",
       "    <tr>\n",
       "      <th>2020-04-20 04:19:43.197000+00:00</th>\n",
       "      <td>117.263390</td>\n",
       "      <td>32.449253</td>\n",
       "      <td>0.000152</td>\n",
       "      <td>0.33</td>\n",
       "      <td>POINT (117.26339 32.44925)</td>\n",
       "    </tr>\n",
       "    <tr>\n",
       "      <th>2020-04-20 04:19:43.197000+00:00</th>\n",
       "      <td>117.347672</td>\n",
       "      <td>32.490669</td>\n",
       "      <td>-0.000086</td>\n",
       "      <td>0.33</td>\n",
       "      <td>POINT (117.34767 32.49067)</td>\n",
       "    </tr>\n",
       "    <tr>\n",
       "      <th>2020-04-20 04:19:43.197000+00:00</th>\n",
       "      <td>117.430908</td>\n",
       "      <td>32.531471</td>\n",
       "      <td>-0.000185</td>\n",
       "      <td>0.33</td>\n",
       "      <td>POINT (117.43091 32.53147)</td>\n",
       "    </tr>\n",
       "    <tr>\n",
       "      <th>2020-04-20 04:19:43.197000+00:00</th>\n",
       "      <td>117.513130</td>\n",
       "      <td>32.571678</td>\n",
       "      <td>0.000131</td>\n",
       "      <td>0.33</td>\n",
       "      <td>POINT (117.51313 32.57168)</td>\n",
       "    </tr>\n",
       "  </tbody>\n",
       "</table>\n",
       "</div>"
      ],
      "text/plain": [
       "                                   longitude   latitude  nitroTropo  qaValue  \\\n",
       "datetime                                                                       \n",
       "2020-04-20 04:19:43.197000+00:00  117.178032  32.407211    0.000293     0.33   \n",
       "2020-04-20 04:19:43.197000+00:00  117.263390  32.449253    0.000152     0.33   \n",
       "2020-04-20 04:19:43.197000+00:00  117.347672  32.490669   -0.000086     0.33   \n",
       "2020-04-20 04:19:43.197000+00:00  117.430908  32.531471   -0.000185     0.33   \n",
       "2020-04-20 04:19:43.197000+00:00  117.513130  32.571678    0.000131     0.33   \n",
       "\n",
       "                                                    geometry  \n",
       "datetime                                                      \n",
       "2020-04-20 04:19:43.197000+00:00  POINT (117.17803 32.40721)  \n",
       "2020-04-20 04:19:43.197000+00:00  POINT (117.26339 32.44925)  \n",
       "2020-04-20 04:19:43.197000+00:00  POINT (117.34767 32.49067)  \n",
       "2020-04-20 04:19:43.197000+00:00  POINT (117.43091 32.53147)  \n",
       "2020-04-20 04:19:43.197000+00:00  POINT (117.51313 32.57168)  "
      ]
     },
     "execution_count": 69,
     "metadata": {},
     "output_type": "execute_result"
    }
   ],
   "source": [
    "df.head()"
   ]
  },
  {
   "cell_type": "code",
   "execution_count": 70,
   "metadata": {},
   "outputs": [
    {
     "data": {
      "application/vnd.plotly.v1+json": {
       "config": {
        "plotlyServerURL": "https://plot.ly"
       },
       "data": [
        {
         "hoverlabel": {
          "namelength": 0
         },
         "hovertemplate": "latitude=%{lat}<br>longitude=%{lon}<br>nitroTropo=%{marker.color}",
         "lat": [
          32.40721130371094,
          32.44925308227539,
          32.49066925048828,
          32.531471252441406,
          32.571678161621094,
          32.61130905151367,
          32.65037155151367,
          32.68888473510742,
          32.726863861083984,
          32.764320373535156,
          32.801265716552734,
          32.837711334228516,
          32.87367248535156,
          32.90916061401367,
          32.944183349609375,
          32.978755950927734,
          33.012882232666016,
          33.04658126831055,
          33.07985305786133,
          33.11271286010742,
          33.14516830444336,
          33.19310760498047,
          33.25569534301758,
          33.31681442260742,
          33.37651824951172,
          33.434871673583984,
          33.49192428588867,
          33.54772186279297,
          33.602317810058594,
          33.65575408935547,
          33.708072662353516,
          33.75931167602539,
          33.80950927734375,
          33.85870361328125,
          33.906925201416016,
          33.9542121887207,
          34.00059127807617,
          34.04609298706055,
          34.09074783325195,
          34.13457489013672,
          34.177608489990234,
          34.21986770629883,
          34.261375427246094,
          34.30215835571289,
          34.34223556518555,
          34.38162612915039,
          34.420352935791016,
          34.458431243896484,
          34.49588394165039,
          34.53272247314453,
          34.568965911865234,
          34.60462951660156,
          34.639732360839844,
          34.674285888671875,
          34.70830535888672,
          34.74180221557617,
          34.77479553222656,
          34.80729293823242,
          34.83930587768555,
          34.870849609375,
          34.90193557739258,
          34.93257522583008,
          34.96277618408203,
          34.992549896240234,
          35.021907806396484,
          35.05085754394531,
          35.079410552978516,
          35.107574462890625,
          35.13536071777344,
          35.16277313232422,
          35.18982696533203,
          35.216522216796875,
          35.24287033081055,
          35.26887893676758,
          35.2945556640625,
          35.31990432739258,
          35.34493637084961,
          35.369659423828125,
          35.394073486328125,
          35.418190002441406,
          35.442012786865234,
          35.46554946899414,
          35.48880386352539,
          35.51177978515625,
          35.534488677978516,
          35.55693435668945,
          35.57911682128906,
          35.60104751586914,
          35.62272644042969,
          35.64415740966797,
          35.66535186767578,
          35.686309814453125,
          35.70703887939453,
          35.727535247802734,
          35.7478141784668,
          35.76787185668945,
          35.78771209716797,
          35.80734634399414,
          35.8267707824707,
          35.84598922729492,
          35.865013122558594,
          35.88383865356445,
          35.902469635009766,
          35.9209098815918,
          35.93916702270508,
          35.95724105834961,
          35.975135803222656,
          35.99285125732422,
          36.01039505004883,
          36.027767181396484,
          36.04497146606445,
          36.06201171875,
          36.078887939453125,
          36.095603942871094,
          36.11216354370117,
          36.128570556640625,
          36.14482498168945,
          36.160926818847656,
          36.176883697509766,
          36.19269561767578,
          36.20836639404297,
          36.22389602661133,
          36.239288330078125,
          36.25454330444336,
          36.2696647644043,
          36.28465270996094,
          36.29951477050781,
          36.314247131347656,
          36.328857421875,
          36.34334182739258,
          36.357704162597656,
          36.371944427490234,
          36.386070251464844,
          36.40007781982422,
          36.413970947265625,
          36.42774963378906,
          36.4414176940918,
          36.454978942871094,
          36.46842956542969,
          36.48177719116211,
          36.495018005371094,
          36.50815200805664,
          36.52119064331055,
          36.534122467041016,
          36.546958923339844,
          36.55970001220703,
          36.57234191894531,
          36.58488845825195,
          36.59734344482422,
          36.60970687866211,
          36.621978759765625,
          36.634159088134766,
          36.64625549316406,
          36.658260345458984,
          36.67018127441406,
          36.6820182800293,
          36.69377136230469,
          36.7054443359375,
          36.71703338623047,
          36.72854232788086,
          36.73997497558594,
          36.75132751464844,
          36.762603759765625,
          36.773799896240234,
          36.78492736816406,
          36.79597854614258,
          36.80695724487305,
          36.81786346435547,
          36.828697204589844,
          36.83946228027344,
          36.85015869140625,
          36.86079025268555,
          36.8713493347168,
          36.88184356689453,
          36.89227294921875,
          36.90263748168945,
          36.91293716430664,
          36.92317199707031,
          36.933349609375,
          36.94346237182617,
          36.953514099121094,
          36.963504791259766,
          36.97343826293945,
          36.983314514160156,
          36.99312973022461,
          37.002891540527344,
          37.01259231567383,
          37.022239685058594,
          37.03183364868164,
          37.0413703918457,
          37.05085754394531,
          37.06028747558594,
          37.06966781616211,
          37.07899475097656,
          37.08827209472656,
          37.097496032714844,
          37.10667037963867,
          37.11579895019531,
          37.124874114990234,
          37.13390350341797,
          37.142887115478516,
          37.15182113647461,
          37.160709381103516,
          37.169551849365234,
          37.178348541259766,
          37.18709945678711,
          37.195804595947266,
          37.2044677734375,
          37.21308898925781,
          37.22166442871094,
          37.23019790649414,
          37.23868942260742,
          37.24713897705078,
          37.25554656982422,
          37.263916015625,
          37.27224349975586,
          37.2805290222168,
          37.288780212402344,
          37.2969856262207,
          37.30515670776367,
          37.313289642333984,
          37.32138442993164,
          37.32944107055664,
          37.337459564208984,
          37.34544372558594,
          37.353389739990234,
          37.361297607421875,
          37.36917495727539,
          37.37701416015625,
          37.38481903076172,
          37.39258575439453,
          37.40032196044922,
          37.408023834228516,
          37.41569137573242,
          37.42332458496094,
          37.43092346191406,
          37.43849182128906,
          37.44602966308594,
          37.45353317260742,
          37.461002349853516,
          37.468441009521484,
          37.47584915161133,
          37.48322677612305,
          37.49057388305664,
          37.497886657714844,
          37.50517272949219,
          37.512428283691406,
          37.5196533203125,
          37.52684783935547,
          37.53401184082031,
          37.5411491394043,
          37.548255920410156,
          37.55533218383789,
          37.562381744384766,
          37.569400787353516,
          37.576393127441406,
          37.58335876464844,
          37.590293884277344,
          37.59720230102539,
          37.60408401489258,
          37.61093521118164,
          37.61776351928711,
          37.62456130981445,
          37.63133239746094,
          37.63807678222656,
          37.644798278808594,
          37.6514892578125,
          37.65815353393555,
          37.664791107177734,
          37.67140579223633,
          37.6779899597168,
          37.68455123901367,
          37.69108581542969,
          37.697593688964844,
          37.704078674316406,
          37.710533142089844,
          37.71696472167969,
          37.72337341308594,
          37.72975158691406,
          37.736106872558594,
          37.74243927001953,
          37.748741149902344,
          37.75502395629883,
          37.76127624511719,
          37.76750564575195,
          37.773712158203125,
          37.77988815307617,
          37.78604507446289,
          37.792171478271484,
          37.79827880859375,
          37.80435562133789,
          37.81040954589844,
          37.81644058227539,
          37.822444915771484,
          37.82842254638672,
          37.83437728881836,
          37.84030532836914,
          37.84621047973633,
          37.852088928222656,
          37.85794448852539,
          37.863773345947266,
          37.86957550048828,
          37.8753547668457,
          37.881103515625,
          37.88683319091797,
          37.89253234863281,
          37.89820861816406,
          37.90385818481445,
          37.90948486328125,
          37.91508102416992,
          37.920654296875,
          37.92619705200195,
          37.93171691894531,
          37.93721008300781,
          37.94267654418945,
          37.948116302490234,
          37.953529357910156,
          37.95891571044922,
          37.964271545410156,
          37.9696044921875,
          37.97490692138672,
          37.98018264770508,
          37.98542785644531,
          37.99064636230469,
          37.9958381652832,
          38.000999450683594,
          38.00613021850586,
          38.011234283447266,
          38.01630783081055,
          38.02135467529297,
          38.0263671875,
          38.031349182128906,
          38.03630447387695,
          38.04122543334961,
          38.04611587524414,
          38.05097579956055,
          38.05580139160156,
          38.06059646606445,
          38.06535720825195,
          38.07008743286133,
          38.07477951049805,
          38.07944107055664,
          38.084068298339844,
          38.088661193847656,
          38.09321594238281,
          38.09773635864258,
          38.10222244262695,
          38.10667037963867,
          38.111080169677734,
          38.11545181274414,
          38.11978530883789,
          38.124080657958984,
          38.128334045410156,
          38.13254928588867,
          38.13672637939453,
          38.1408576965332,
          38.14494705200195,
          38.14899444580078,
          38.15299987792969,
          38.156959533691406,
          38.16087341308594,
          38.16474151611328,
          38.16856002807617,
          38.17233657836914,
          38.17605972290039,
          38.17973709106445,
          38.1833610534668,
          38.18693542480469,
          38.19045639038086,
          38.19392395019531,
          38.19733428955078,
          38.20069122314453,
          38.2039909362793,
          38.20723342895508,
          38.21041488647461,
          38.213539123535156,
          38.21659851074219,
          38.2195930480957,
          38.22252655029297,
          38.22539138793945,
          38.228187561035156,
          38.23091506958008,
          38.23357009887695,
          38.23615264892578,
          38.2386589050293,
          38.2410888671875,
          38.24344253540039,
          38.24571228027344,
          38.247901916503906,
          38.250003814697266,
          38.252017974853516,
          38.253944396972656,
          38.25577926635742,
          38.25751495361328,
          38.2591552734375,
          38.26069641113281,
          38.26213073730469,
          38.26346206665039,
          38.264678955078125,
          38.265785217285156,
          38.26677703857422,
          38.267642974853516,
          38.26839065551758,
          38.269004821777344,
          38.26948928833008,
          38.269832611083984,
          38.27003860473633,
          38.27009582519531,
          38.27000045776367,
          38.26974868774414,
          38.26933288574219,
          38.26874923706055,
          38.26799011230469,
          38.26704788208008,
          38.26591491699219,
          38.26458740234375,
          38.26305389404297,
          38.26130676269531,
          38.259342193603516,
          38.25714111328125,
          38.254703521728516,
          38.252010345458984,
          38.24905776977539,
          38.24583053588867,
          38.242313385009766,
          38.23849868774414,
          38.2343635559082,
          38.22990417480469,
          38.225093841552734,
          38.221248626708984,
          38.21856689453125,
          38.215789794921875,
          38.21290969848633,
          38.209930419921875,
          38.206844329833984,
          38.20364761352539,
          38.20034408569336,
          38.19692611694336,
          38.193389892578125,
          38.18973159790039,
          38.185951232910156,
          38.18204116821289,
          38.178001403808594,
          38.173828125,
          38.16951370239258,
          38.16505432128906,
          38.16044998168945,
          38.15568923950195,
          38.15077590942383
         ],
         "legendgroup": "",
         "lon": [
          117.17803192138672,
          117.26338958740234,
          117.34767150878906,
          117.430908203125,
          117.51313018798828,
          117.59435272216797,
          117.67461395263672,
          117.7539291381836,
          117.83231353759766,
          117.90980529785156,
          117.98641204833984,
          118.06216430664062,
          118.13707733154297,
          118.21116638183594,
          118.28445434570312,
          118.35694885253906,
          118.4286880493164,
          118.49967193603516,
          118.56991577148438,
          118.63944244384766,
          118.70826721191406,
          118.81021118164062,
          118.94380187988281,
          119.07482147216797,
          119.203369140625,
          119.32953643798828,
          119.45342254638672,
          119.5750961303711,
          119.69464874267578,
          119.8121566772461,
          119.92768096923828,
          120.04129028320312,
          120.15306091308594,
          120.26304626464844,
          120.37129974365234,
          120.4778823852539,
          120.58285522460938,
          120.6862564086914,
          120.78813934326172,
          120.88854217529297,
          120.9875259399414,
          121.08512115478516,
          121.18136596679688,
          121.27630615234375,
          121.36997985839844,
          121.46240997314453,
          121.55364990234375,
          121.64372253417969,
          121.73265075683594,
          121.82048034667969,
          121.90723419189453,
          121.9929428100586,
          122.07762908935547,
          122.16132354736328,
          122.2440414428711,
          122.32582092285156,
          122.40668487548828,
          122.48664093017578,
          122.56572723388672,
          122.64395904541016,
          122.72135162353516,
          122.79793548583984,
          122.87371826171875,
          122.94872283935547,
          123.02297973632812,
          123.09648132324219,
          123.16926574707031,
          123.24134063720703,
          123.31272888183594,
          123.38343048095703,
          123.45347595214844,
          123.52287292480469,
          123.59163665771484,
          123.65978240966797,
          123.7273178100586,
          123.79426574707031,
          123.86062622070312,
          123.92642211914062,
          123.99165344238281,
          124.05635070800781,
          124.1205062866211,
          124.18414306640625,
          124.24726104736328,
          124.30988311767578,
          124.37200927734375,
          124.43365478515625,
          124.49482727050781,
          124.5555419921875,
          124.61579132080078,
          124.67560577392578,
          124.73497772216797,
          124.7939224243164,
          124.85244750976562,
          124.91056823730469,
          124.96827697753906,
          125.02558898925781,
          125.08251953125,
          125.1390609741211,
          125.19523620605469,
          125.25103759765625,
          125.30648040771484,
          125.361572265625,
          125.41631317138672,
          125.47071838378906,
          125.52478790283203,
          125.57852935791016,
          125.63195037841797,
          125.68505859375,
          125.73784637451172,
          125.79033660888672,
          125.842529296875,
          125.89442443847656,
          125.94603729248047,
          125.99736022949219,
          126.04840850830078,
          126.09918975830078,
          126.14969635009766,
          126.19994354248047,
          126.24993133544922,
          126.2996597290039,
          126.34915161132812,
          126.39839172363281,
          126.4473876953125,
          126.49615478515625,
          126.54468536376953,
          126.5929946899414,
          126.64107513427734,
          126.6889419555664,
          126.7365951538086,
          126.78402709960938,
          126.83126068115234,
          126.87828826904297,
          126.92511749267578,
          126.97174835205078,
          127.0181884765625,
          127.06443786621094,
          127.11050415039062,
          127.15637969970703,
          127.20208740234375,
          127.24761199951172,
          127.29296875,
          127.3381576538086,
          127.3831787109375,
          127.42803955078125,
          127.47274017333984,
          127.51728057861328,
          127.5616683959961,
          127.60591125488281,
          127.6500015258789,
          127.69395446777344,
          127.73775482177734,
          127.78142547607422,
          127.824951171875,
          127.86835479736328,
          127.91162109375,
          127.95475769042969,
          127.99777221679688,
          128.04066467285156,
          128.08343505859375,
          128.12608337402344,
          128.1686248779297,
          128.21104431152344,
          128.25335693359375,
          128.29556274414062,
          128.33767700195312,
          128.37966918945312,
          128.42156982421875,
          128.46336364746094,
          128.50506591796875,
          128.5466766357422,
          128.58819580078125,
          128.62962341308594,
          128.6709747314453,
          128.7122344970703,
          128.75340270996094,
          128.7945098876953,
          128.8355255126953,
          128.87646484375,
          128.91732788085938,
          128.9581298828125,
          128.9988555908203,
          129.03952026367188,
          129.08010864257812,
          129.12063598632812,
          129.16110229492188,
          129.20150756835938,
          129.2418670654297,
          129.2821502685547,
          129.32240295410156,
          129.3625946044922,
          129.40272521972656,
          129.4428253173828,
          129.4828643798828,
          129.5228729248047,
          129.56283569335938,
          129.60275268554688,
          129.64263916015625,
          129.68247985839844,
          129.7222900390625,
          129.76206970214844,
          129.80181884765625,
          129.84153747558594,
          129.88124084472656,
          129.9208984375,
          129.96054077148438,
          130.0001678466797,
          130.03976440429688,
          130.07936096191406,
          130.11892700195312,
          130.15847778320312,
          130.19802856445312,
          130.237548828125,
          130.27706909179688,
          130.31658935546875,
          130.35609436035156,
          130.39561462402344,
          130.43511962890625,
          130.47462463378906,
          130.51412963867188,
          130.5536346435547,
          130.59315490722656,
          130.63267517089844,
          130.67221069335938,
          130.7117462158203,
          130.75131225585938,
          130.79087829589844,
          130.83045959472656,
          130.8700714111328,
          130.90969848632812,
          130.9493408203125,
          130.989013671875,
          131.02870178222656,
          131.0684356689453,
          131.10818481445312,
          131.14796447753906,
          131.18777465820312,
          131.22763061523438,
          131.26751708984375,
          131.30743408203125,
          131.34739685058594,
          131.3874053955078,
          131.42745971679688,
          131.46755981445312,
          131.50770568847656,
          131.5478973388672,
          131.588134765625,
          131.62843322753906,
          131.66879272460938,
          131.70919799804688,
          131.7496795654297,
          131.7902069091797,
          131.83079528808594,
          131.8714599609375,
          131.9121856689453,
          131.95298767089844,
          131.9938507080078,
          132.03480529785156,
          132.07582092285156,
          132.11691284179688,
          132.1580810546875,
          132.1993408203125,
          132.2406768798828,
          132.2821044921875,
          132.32362365722656,
          132.365234375,
          132.40692138671875,
          132.44871520996094,
          132.49061584472656,
          132.5325927734375,
          132.57469177246094,
          132.61688232421875,
          132.65919494628906,
          132.70159912109375,
          132.74412536621094,
          132.78675842285156,
          132.8295135498047,
          132.87237548828125,
          132.9153594970703,
          132.95848083496094,
          133.00172424316406,
          133.0450897216797,
          133.08859252929688,
          133.13221740722656,
          133.17599487304688,
          133.2198944091797,
          133.26394653320312,
          133.30813598632812,
          133.3524932861328,
          133.39697265625,
          133.44161987304688,
          133.48641967773438,
          133.53138732910156,
          133.57650756835938,
          133.62179565429688,
          133.66725158691406,
          133.71287536621094,
          133.7586669921875,
          133.80465698242188,
          133.85081481933594,
          133.89715576171875,
          133.9436798095703,
          133.9904022216797,
          134.0373077392578,
          134.0844268798828,
          134.13172912597656,
          134.1792449951172,
          134.2269744873047,
          134.27490234375,
          134.32305908203125,
          134.37142944335938,
          134.42001342773438,
          134.46884155273438,
          134.51788330078125,
          134.56716918945312,
          134.61669921875,
          134.66647338867188,
          134.71649169921875,
          134.76675415039062,
          134.81727600097656,
          134.86805725097656,
          134.9191131591797,
          134.97042846679688,
          135.02203369140625,
          135.0738983154297,
          135.1260528564453,
          135.1785125732422,
          135.2312469482422,
          135.28428649902344,
          135.33763122558594,
          135.39129638671875,
          135.4452667236328,
          135.4995574951172,
          135.55418395996094,
          135.609130859375,
          135.6644287109375,
          135.72006225585938,
          135.7760467529297,
          135.83238220214844,
          135.88909912109375,
          135.9461669921875,
          136.00363159179688,
          136.06146240234375,
          136.11968994140625,
          136.17831420898438,
          136.23733520507812,
          136.29678344726562,
          136.3566436767578,
          136.4169158935547,
          136.47764587402344,
          136.53880310058594,
          136.6004180908203,
          136.66250610351562,
          136.72503662109375,
          136.78807067871094,
          136.85157775878906,
          136.9155731201172,
          136.98008728027344,
          137.04510498046875,
          137.11065673828125,
          137.17674255371094,
          137.2433624267578,
          137.310546875,
          137.3782958984375,
          137.44662475585938,
          137.5155487060547,
          137.58506774902344,
          137.6551971435547,
          137.72596740722656,
          137.79736328125,
          137.86941528320312,
          137.94212341308594,
          138.01553344726562,
          138.08961486816406,
          138.16441345214844,
          138.2399444580078,
          138.3162078857422,
          138.39321899414062,
          138.47100830078125,
          138.54959106445312,
          138.62896728515625,
          138.7091827392578,
          138.79022216796875,
          138.87213134765625,
          138.95492553710938,
          139.0386199951172,
          139.12322998046875,
          139.2087860107422,
          139.29531860351562,
          139.38282775878906,
          139.47134399414062,
          139.5609130859375,
          139.6515350341797,
          139.74325561523438,
          139.83607482910156,
          139.9300537109375,
          140.0251922607422,
          140.12155151367188,
          140.21913146972656,
          140.31797790527344,
          140.4181365966797,
          140.51962280273438,
          140.6224822998047,
          140.7267608642578,
          140.8324737548828,
          140.93968200683594,
          141.0484161376953,
          141.1587371826172,
          141.2706756591797,
          141.38429260253906,
          141.49961853027344,
          141.61671447753906,
          141.7356414794922,
          141.85646057128906,
          141.97921752929688,
          142.10397338867188,
          142.23080444335938,
          142.3597869873047,
          142.490966796875,
          142.6244354248047,
          142.76026916503906,
          142.8985595703125,
          143.0393829345703,
          143.18284606933594,
          143.3290252685547,
          143.47802734375,
          143.62998962402344,
          143.7849884033203,
          143.94317626953125,
          144.1046600341797,
          144.22802734375,
          144.31137084960938,
          144.3956298828125,
          144.48081970214844,
          144.56695556640625,
          144.65403747558594,
          144.74212646484375,
          144.8312225341797,
          144.92135620117188,
          145.01254272460938,
          145.1048126220703,
          145.19818115234375,
          145.29269409179688,
          145.38836669921875,
          145.4852294921875,
          145.5832977294922,
          145.68263244628906,
          145.78323364257812,
          145.88516235351562,
          145.98841857910156
         ],
         "marker": {
          "color": [
           0.00029333896236494184,
           0.00015176030865404755,
           -8.594623795943335e-05,
           -0.00018472828378435224,
           0.00013108020357321948,
           3.5782937629846856e-05,
           0.00013355053670238703,
           -8.836267079459503e-05,
           -3.3673582947812974e-05,
           -0.00012596248416230083,
           5.52460624021478e-05,
           -7.561625352536794e-06,
           6.601205677725375e-05,
           2.7593776394496672e-05,
           -4.817321951122722e-06,
           -6.170802225824445e-05,
           3.2219697459368035e-05,
           3.379345071152784e-05,
           -1.8966382413054816e-05,
           -7.772228855174035e-05,
           7.08587140252348e-06,
           9.318278898717836e-05,
           8.878078369889408e-05,
           0.00019192176114302129,
           0.0001670387719059363,
           6.84849001117982e-05,
           0.00011642745084827766,
           9.710288577480242e-05,
           8.619252912467346e-05,
           3.886307604261674e-05,
           4.238674955558963e-05,
           4.434277070686221e-05,
           5.7347129768459126e-05,
           5.491163756232709e-05,
           7.256967364810407e-05,
           7.716917025391012e-05,
           5.507427704287693e-05,
           6.113409472163767e-05,
           5.969830817775801e-05,
           6.738438969478011e-05,
           7.22130571375601e-05,
           5.426971256383695e-05,
           7.307521445909515e-05,
           5.956107270321809e-05,
           7.191127951955423e-05,
           7.581408135592937e-05,
           5.834661715198308e-05,
           3.3363307011313736e-05,
           3.089132223976776e-05,
           3.2174852094613016e-05,
           3.1573468731949106e-05,
           2.971271715068724e-05,
           2.8169954020995647e-05,
           2.9626218747580424e-05,
           2.9404980523395352e-05,
           3.288269363110885e-05,
           2.604468863864895e-05,
           2.622053216327913e-05,
           2.035821307799779e-05,
           1.788597000995651e-05,
           3.197638943674974e-05,
           3.0411554689635523e-05,
           4.297750274417922e-05,
           3.49686924892012e-05,
           2.8300197300268337e-05,
           2.980014141940046e-05,
           2.5021372493938543e-05,
           2.0835257600992918e-05,
           3.3220345358131453e-05,
           3.905961420969106e-05,
           3.4169828722951934e-05,
           2.8175396437291056e-05,
           3.994453800260089e-05,
           3.642236697487533e-05,
           3.2100910175358877e-05,
           3.027533966815099e-05,
           2.661723738128785e-05,
           2.8110785933677107e-05,
           2.6272869945387356e-05,
           2.1867161194677465e-05,
           2.283241701661609e-05,
           2.4880439013941213e-05,
           2.264473368995823e-05,
           2.0493100237217732e-05,
           2.1104980987729505e-05,
           2.0358611436677165e-05,
           2.2659936803393066e-05,
           2.465864599798806e-05,
           2.3133939976105466e-05,
           2.0738798411912285e-05,
           2.267783747811336e-05,
           2.2280268240137957e-05,
           1.9486358723952435e-05,
           2.5091319912462495e-05,
           2.4029393898672424e-05,
           2.9373475626925938e-05,
           3.126625233562663e-05,
           2.351853618165478e-05,
           2.360194775974378e-05,
           1.8070286387228407e-05,
           1.5398662071675062e-05,
           1.3466086784319486e-05,
           1.1185898074472789e-05,
           1.4624785762862302e-05,
           1.498748952144524e-05,
           1.709585376374889e-05,
           1.4297278539743274e-05,
           1.8667591575649567e-05,
           2.479182330716867e-05,
           1.751182571751997e-05,
           2.7842541385325603e-05,
           2.6496527425479144e-05,
           1.68794267665362e-05,
           2.056886842183303e-05,
           2.345669417991303e-05,
           3.731758624780923e-05,
           3.5937438951805234e-05,
           3.319215829833411e-05,
           2.8367356208036654e-05,
           4.302717570681125e-05,
           3.5781100450549275e-05,
           4.8915695515461266e-05,
           4.5186221541371197e-05,
           5.724373477278277e-05,
           5.8879497373709455e-05,
           5.927402162342332e-05,
           6.0645932535408065e-05,
           3.515959542710334e-05,
           5.093053914606571e-05,
           5.931693158345297e-05,
           4.93490879307501e-05,
           6.591626151930541e-05,
           4.3306496081640944e-05,
           6.372862844727933e-05,
           3.388785626157187e-05,
           6.355492223519832e-05,
           5.6574375776108354e-05,
           7.453993748640642e-05,
           1.057389090419747e-05,
           2.5849631128949113e-05,
           2.4713246602914296e-05,
           3.087255026912317e-05,
           4.1816172597464174e-05,
           2.5523271688143723e-05,
           2.0684268747572787e-05,
           4.0917017031461e-05,
           3.539977842592634e-05,
           2.4511075025657192e-05,
           2.6794950827024877e-05,
           4.077559060533531e-05,
           4.314438047003932e-05,
           4.934945172863081e-05,
           4.046172398375347e-05,
           3.586630919016898e-05,
           3.321280746604316e-05,
           2.1617950551444665e-05,
           1.70874445757363e-05,
           2.6826079192687757e-05,
           2.707386556721758e-05,
           3.2948784792097285e-05,
           3.324414137750864e-05,
           1.2954308658663649e-05,
           2.2183910914463922e-05,
           3.0320845326059498e-05,
           2.8204478439874947e-05,
           1.987953692150768e-05,
           1.6870108083821833e-05,
           2.4626540835015476e-05,
           4.077317862538621e-05,
           4.1271916416008025e-05,
           3.350921906530857e-05,
           1.9674611394293606e-05,
           4.863712820224464e-05,
           4.723568417830393e-05,
           9.722606591822114e-06,
           1.4232291505322792e-05,
           1.711328513920307e-05,
           3.551409827196039e-05,
           2.8820650186389685e-05,
           2.466267869749572e-05,
           1.7046391803887673e-05,
           2.8327713152975775e-05,
           3.2695428672013804e-05,
           2.7213181965635158e-05,
           3.0060229619266465e-05,
           3.595832458813675e-05,
           5.606501144939102e-05,
           3.0588562367483974e-05,
           5.711877020075917e-05,
           4.862873538513668e-05,
           5.5502703617094085e-05,
           7.566092244815081e-05,
           6.299748201854527e-05,
           7.213552453322336e-05,
           7.542398088844493e-05,
           5.688348028343171e-05,
           7.819340680725873e-05,
           7.040781201794744e-05,
           7.130612357286736e-05,
           5.4798470955574885e-05,
           4.054111195728183e-05,
           4.6817272959742695e-05,
           2.6058332878164947e-05,
           3.236826159991324e-05,
           2.8856902645202354e-05,
           2.9407137844827957e-05,
           2.2892221750225872e-05,
           3.2753108826000243e-05,
           4.08010819228366e-05,
           2.88087048829766e-05,
           2.31529884331394e-05,
           3.08757480524946e-05,
           2.6399322450743057e-05,
           3.374948937562294e-05,
           2.959759694931563e-05,
           8.298975444631651e-06,
           2.7738360586226918e-05,
           2.8463347916840576e-05,
           2.1529018340515904e-05,
           2.495627813914325e-05,
           1.722214074106887e-05,
           2.4091528757708147e-05,
           2.0599054550984874e-05,
           1.4852489584882278e-05,
           2.2917256501386873e-05,
           7.364350949501386e-06,
           2.7889105695066974e-05,
           1.2469960893213283e-05,
           1.5640538549632765e-05,
           1.2933319339936133e-05,
           1.4450952221523039e-05,
           2.383179889875464e-05,
           3.036270209122449e-05,
           1.5016459656180814e-05,
           2.197397407144308e-05,
           1.6771888112998568e-05,
           7.19443551133736e-06,
           1.919812712003477e-05,
           2.409896842436865e-05,
           1.5094589798536617e-05,
           1.321563649980817e-05,
           1.8066139091388322e-05,
           2.131501787516754e-05,
           1.4124322660791222e-05,
           1.197396431962261e-05,
           1.4869936421746388e-05,
           1.752070056681987e-05,
           9.178451364277862e-06,
           5.4675738283549435e-06,
           8.696208169567399e-06,
           1.1169358003826346e-05,
           1.9157707356498577e-05,
           2.2522090148413554e-05,
           2.2014593923813663e-05,
           1.7100512195611373e-05,
           1.616622830624692e-05,
           1.563195291964803e-05,
           8.691774382896256e-06,
           1.4744314285053406e-05,
           1.5291783711290918e-05,
           1.098728444048902e-05,
           1.3063162441540044e-05,
           1.0132135685125832e-05,
           1.9024622815777548e-05,
           7.684100637561642e-06,
           1.3529177522286773e-05,
           2.5535107852192596e-05,
           1.8630162230692804e-05,
           1.8432388969813474e-05,
           8.551119208277669e-06,
           1.1971668754995335e-05,
           1.4126278074400034e-05,
           8.391730261791963e-06,
           1.3171644241083413e-05,
           1.105677438317798e-05,
           1.1634089787548874e-05,
           1.627849087526556e-05,
           2.100842903018929e-05,
           2.0861942175542936e-05,
           2.3257040083990432e-05,
           2.2204148990567774e-05,
           2.2206490029930137e-05,
           1.7931988622876815e-05,
           1.6242905985563993e-05,
           2.13170478673419e-05,
           9.125871656578965e-06,
           1.3236144695838448e-05,
           8.76865851751063e-06,
           1.2165890439064242e-05,
           1.2969568160769995e-05,
           2.1047762857051566e-05,
           2.1565194401773624e-05,
           2.366605076531414e-05,
           1.4665875823993701e-05,
           1.1971125786658376e-05,
           2.1760442905360833e-05,
           1.8464588720235042e-05,
           2.3360204068012536e-05,
           2.4298868083860725e-05,
           2.5945575544028543e-05,
           2.238448905700352e-05,
           2.1773617845610715e-05,
           1.9691189663717523e-05,
           1.0004928299167659e-05,
           2.694584327400662e-05,
           3.116847074124962e-05,
           3.1950126867741346e-05,
           3.2293275580741465e-05,
           3.160287087666802e-05,
           2.2265534425969236e-05,
           3.543857383192517e-05,
           1.170389532489935e-05,
           2.791713450278621e-05,
           3.5045046388404444e-05,
           3.320496762171388e-05,
           3.761916741495952e-05,
           3.2995394576573744e-05,
           3.3228385291295126e-05,
           3.1870520615484565e-05,
           4.3425319745438173e-05,
           2.3089534806786105e-05,
           3.911715975846164e-05,
           3.4528948162915185e-05,
           3.396465763216838e-05,
           3.927818761439994e-05,
           3.9744340028846636e-05,
           4.2629770177882165e-05,
           2.270404002047144e-05,
           2.0958743334631436e-05,
           1.8026046745944768e-05,
           1.6935462554101832e-05,
           1.7379745258949697e-05,
           2.4049682906479575e-05,
           2.074893745884765e-05,
           2.0872272216365673e-05,
           2.1126250430825166e-05,
           1.6962272638920695e-05,
           1.5591112969559617e-05,
           2.0466502974159084e-05,
           1.6398784282500856e-05,
           3.3188844099640846e-05,
           3.621303039835766e-05,
           3.3684089430607855e-05,
           2.376721204200294e-05,
           2.2425032511819154e-05,
           2.8916183509863913e-05,
           2.8083211873308755e-05,
           3.251465386711061e-05,
           3.097610533586703e-05,
           2.6869964131037705e-05,
           2.829356526490301e-05,
           2.2613454348174855e-05,
           2.594494799268432e-05,
           2.2192893084138632e-05,
           2.38936445384752e-05,
           2.6946003345074132e-05,
           2.626588502607774e-05,
           3.826356987701729e-05,
           3.644906610134058e-05,
           3.9893624489195645e-05,
           2.9127320885891095e-05,
           3.347518577356823e-05,
           3.5840217606164515e-05,
           3.433369056438096e-05,
           3.5357632441446185e-05,
           2.842378307832405e-05,
           3.121386544080451e-05,
           2.8673390261246823e-05,
           3.344179276609793e-05,
           2.6992183848051354e-05,
           3.211287912563421e-05,
           3.59353180101607e-05,
           2.9361450287979096e-05,
           3.655859109130688e-05,
           3.257463686168194e-05,
           3.021874545083847e-05,
           3.064168049604632e-05,
           3.0520710424752906e-05,
           3.3888100006151944e-05,
           3.283488331362605e-05,
           2.6290264941053465e-05,
           3.724706039065495e-05,
           3.203718370059505e-05,
           2.8791695513064042e-05,
           2.9765740691800602e-05,
           2.8650820240727626e-05,
           2.7067926566815004e-05,
           3.7372432416304946e-05,
           3.7116660678293556e-05,
           3.795470911427401e-05,
           3.802531864494085e-05,
           3.06140718748793e-05,
           3.7385580071713775e-05,
           3.504945198073983e-05,
           3.2102474506245926e-05,
           2.7893645892618224e-05,
           3.108872624579817e-05,
           5.136286927154288e-05,
           4.1140359826385975e-05,
           3.7506993976421654e-05,
           4.0823095332598314e-05,
           4.590594471665099e-05,
           4.4451331632444635e-05,
           3.449283030931838e-05,
           3.60581798304338e-05,
           3.548251333995722e-05,
           3.156046295771375e-05,
           2.5956327590392902e-05,
           2.6952324333251454e-05,
           2.697526360861957e-05,
           2.886205038521439e-05,
           2.700691948120948e-05,
           2.254599894513376e-05,
           2.975729512399994e-05,
           3.609826308093034e-05,
           2.817819404299371e-05,
           3.055160414078273e-05,
           2.2025127691449597e-05,
           2.492697058187332e-05,
           3.0650593544123694e-05,
           3.563621794455685e-05,
           3.6522160371532664e-05,
           3.370507329236716e-05,
           4.1209470509784296e-05,
           3.597164322854951e-05,
           3.432507219258696e-05,
           3.850661596516147e-05,
           4.422371421242133e-05,
           4.597519728122279e-05,
           3.518322773743421e-05,
           2.852172292477917e-05,
           3.707093128468841e-05,
           3.118464883300476e-05,
           3.7188499845797196e-05,
           4.4905515096616e-05,
           3.7138539482839406e-05,
           2.497620153008029e-05,
           4.5707998651778325e-05,
           4.782506584888324e-05,
           5.6061493523884565e-05,
           4.671478382078931e-05,
           3.2269810617435724e-05,
           5.311001950758509e-05,
           4.109496148885228e-05,
           4.675868694903329e-05,
           5.6239972764160484e-05,
           7.675649976590648e-05,
           5.7227356592193246e-05,
           6.086132998461835e-05
          ],
          "coloraxis": "coloraxis"
         },
         "mode": "markers",
         "name": "",
         "showlegend": false,
         "subplot": "mapbox",
         "type": "scattermapbox"
        }
       ],
       "layout": {
        "coloraxis": {
         "colorbar": {
          "title": {
           "text": "nitroTropo"
          }
         },
         "colorscale": [
          [
           0,
           "#000000"
          ],
          [
           0.0625,
           "#001f4d"
          ],
          [
           0.125,
           "#003786"
          ],
          [
           0.1875,
           "#0e58a8"
          ],
          [
           0.25,
           "#217eb8"
          ],
          [
           0.3125,
           "#30a4ca"
          ],
          [
           0.375,
           "#54c8df"
          ],
          [
           0.4375,
           "#9be4ef"
          ],
          [
           0.5,
           "#e1e9d1"
          ],
          [
           0.5625,
           "#f3d573"
          ],
          [
           0.625,
           "#e7b000"
          ],
          [
           0.6875,
           "#da8200"
          ],
          [
           0.75,
           "#c65400"
          ],
          [
           0.8125,
           "#ac2301"
          ],
          [
           0.875,
           "#820000"
          ],
          [
           0.9375,
           "#4c0000"
          ],
          [
           1,
           "#040100"
          ]
         ]
        },
        "legend": {
         "tracegroupgap": 0
        },
        "mapbox": {
         "accesstoken": "pk.eyJ1Ijoia2V2aW5ib3lsZTc3MTciLCJhIjoiY2s5aWl6enFpMDI3eDNubjJvZWdiMTdzYSJ9.VKSafIe0zsLVMCswKycFyQ",
         "center": {
          "lat": 36.814212799072266,
          "lon": 130.9608154296875
         },
         "domain": {
          "x": [
           0,
           1
          ],
          "y": [
           0,
           1
          ]
         },
         "style": "dark",
         "zoom": 10
        },
        "margin": {
         "t": 60
        },
        "template": {
         "data": {
          "bar": [
           {
            "error_x": {
             "color": "#2a3f5f"
            },
            "error_y": {
             "color": "#2a3f5f"
            },
            "marker": {
             "line": {
              "color": "#E5ECF6",
              "width": 0.5
             }
            },
            "type": "bar"
           }
          ],
          "barpolar": [
           {
            "marker": {
             "line": {
              "color": "#E5ECF6",
              "width": 0.5
             }
            },
            "type": "barpolar"
           }
          ],
          "carpet": [
           {
            "aaxis": {
             "endlinecolor": "#2a3f5f",
             "gridcolor": "white",
             "linecolor": "white",
             "minorgridcolor": "white",
             "startlinecolor": "#2a3f5f"
            },
            "baxis": {
             "endlinecolor": "#2a3f5f",
             "gridcolor": "white",
             "linecolor": "white",
             "minorgridcolor": "white",
             "startlinecolor": "#2a3f5f"
            },
            "type": "carpet"
           }
          ],
          "choropleth": [
           {
            "colorbar": {
             "outlinewidth": 0,
             "ticks": ""
            },
            "type": "choropleth"
           }
          ],
          "contour": [
           {
            "colorbar": {
             "outlinewidth": 0,
             "ticks": ""
            },
            "colorscale": [
             [
              0,
              "#0d0887"
             ],
             [
              0.1111111111111111,
              "#46039f"
             ],
             [
              0.2222222222222222,
              "#7201a8"
             ],
             [
              0.3333333333333333,
              "#9c179e"
             ],
             [
              0.4444444444444444,
              "#bd3786"
             ],
             [
              0.5555555555555556,
              "#d8576b"
             ],
             [
              0.6666666666666666,
              "#ed7953"
             ],
             [
              0.7777777777777778,
              "#fb9f3a"
             ],
             [
              0.8888888888888888,
              "#fdca26"
             ],
             [
              1,
              "#f0f921"
             ]
            ],
            "type": "contour"
           }
          ],
          "contourcarpet": [
           {
            "colorbar": {
             "outlinewidth": 0,
             "ticks": ""
            },
            "type": "contourcarpet"
           }
          ],
          "heatmap": [
           {
            "colorbar": {
             "outlinewidth": 0,
             "ticks": ""
            },
            "colorscale": [
             [
              0,
              "#0d0887"
             ],
             [
              0.1111111111111111,
              "#46039f"
             ],
             [
              0.2222222222222222,
              "#7201a8"
             ],
             [
              0.3333333333333333,
              "#9c179e"
             ],
             [
              0.4444444444444444,
              "#bd3786"
             ],
             [
              0.5555555555555556,
              "#d8576b"
             ],
             [
              0.6666666666666666,
              "#ed7953"
             ],
             [
              0.7777777777777778,
              "#fb9f3a"
             ],
             [
              0.8888888888888888,
              "#fdca26"
             ],
             [
              1,
              "#f0f921"
             ]
            ],
            "type": "heatmap"
           }
          ],
          "heatmapgl": [
           {
            "colorbar": {
             "outlinewidth": 0,
             "ticks": ""
            },
            "colorscale": [
             [
              0,
              "#0d0887"
             ],
             [
              0.1111111111111111,
              "#46039f"
             ],
             [
              0.2222222222222222,
              "#7201a8"
             ],
             [
              0.3333333333333333,
              "#9c179e"
             ],
             [
              0.4444444444444444,
              "#bd3786"
             ],
             [
              0.5555555555555556,
              "#d8576b"
             ],
             [
              0.6666666666666666,
              "#ed7953"
             ],
             [
              0.7777777777777778,
              "#fb9f3a"
             ],
             [
              0.8888888888888888,
              "#fdca26"
             ],
             [
              1,
              "#f0f921"
             ]
            ],
            "type": "heatmapgl"
           }
          ],
          "histogram": [
           {
            "marker": {
             "colorbar": {
              "outlinewidth": 0,
              "ticks": ""
             }
            },
            "type": "histogram"
           }
          ],
          "histogram2d": [
           {
            "colorbar": {
             "outlinewidth": 0,
             "ticks": ""
            },
            "colorscale": [
             [
              0,
              "#0d0887"
             ],
             [
              0.1111111111111111,
              "#46039f"
             ],
             [
              0.2222222222222222,
              "#7201a8"
             ],
             [
              0.3333333333333333,
              "#9c179e"
             ],
             [
              0.4444444444444444,
              "#bd3786"
             ],
             [
              0.5555555555555556,
              "#d8576b"
             ],
             [
              0.6666666666666666,
              "#ed7953"
             ],
             [
              0.7777777777777778,
              "#fb9f3a"
             ],
             [
              0.8888888888888888,
              "#fdca26"
             ],
             [
              1,
              "#f0f921"
             ]
            ],
            "type": "histogram2d"
           }
          ],
          "histogram2dcontour": [
           {
            "colorbar": {
             "outlinewidth": 0,
             "ticks": ""
            },
            "colorscale": [
             [
              0,
              "#0d0887"
             ],
             [
              0.1111111111111111,
              "#46039f"
             ],
             [
              0.2222222222222222,
              "#7201a8"
             ],
             [
              0.3333333333333333,
              "#9c179e"
             ],
             [
              0.4444444444444444,
              "#bd3786"
             ],
             [
              0.5555555555555556,
              "#d8576b"
             ],
             [
              0.6666666666666666,
              "#ed7953"
             ],
             [
              0.7777777777777778,
              "#fb9f3a"
             ],
             [
              0.8888888888888888,
              "#fdca26"
             ],
             [
              1,
              "#f0f921"
             ]
            ],
            "type": "histogram2dcontour"
           }
          ],
          "mesh3d": [
           {
            "colorbar": {
             "outlinewidth": 0,
             "ticks": ""
            },
            "type": "mesh3d"
           }
          ],
          "parcoords": [
           {
            "line": {
             "colorbar": {
              "outlinewidth": 0,
              "ticks": ""
             }
            },
            "type": "parcoords"
           }
          ],
          "pie": [
           {
            "automargin": true,
            "type": "pie"
           }
          ],
          "scatter": [
           {
            "marker": {
             "colorbar": {
              "outlinewidth": 0,
              "ticks": ""
             }
            },
            "type": "scatter"
           }
          ],
          "scatter3d": [
           {
            "line": {
             "colorbar": {
              "outlinewidth": 0,
              "ticks": ""
             }
            },
            "marker": {
             "colorbar": {
              "outlinewidth": 0,
              "ticks": ""
             }
            },
            "type": "scatter3d"
           }
          ],
          "scattercarpet": [
           {
            "marker": {
             "colorbar": {
              "outlinewidth": 0,
              "ticks": ""
             }
            },
            "type": "scattercarpet"
           }
          ],
          "scattergeo": [
           {
            "marker": {
             "colorbar": {
              "outlinewidth": 0,
              "ticks": ""
             }
            },
            "type": "scattergeo"
           }
          ],
          "scattergl": [
           {
            "marker": {
             "colorbar": {
              "outlinewidth": 0,
              "ticks": ""
             }
            },
            "type": "scattergl"
           }
          ],
          "scattermapbox": [
           {
            "marker": {
             "colorbar": {
              "outlinewidth": 0,
              "ticks": ""
             }
            },
            "type": "scattermapbox"
           }
          ],
          "scatterpolar": [
           {
            "marker": {
             "colorbar": {
              "outlinewidth": 0,
              "ticks": ""
             }
            },
            "type": "scatterpolar"
           }
          ],
          "scatterpolargl": [
           {
            "marker": {
             "colorbar": {
              "outlinewidth": 0,
              "ticks": ""
             }
            },
            "type": "scatterpolargl"
           }
          ],
          "scatterternary": [
           {
            "marker": {
             "colorbar": {
              "outlinewidth": 0,
              "ticks": ""
             }
            },
            "type": "scatterternary"
           }
          ],
          "surface": [
           {
            "colorbar": {
             "outlinewidth": 0,
             "ticks": ""
            },
            "colorscale": [
             [
              0,
              "#0d0887"
             ],
             [
              0.1111111111111111,
              "#46039f"
             ],
             [
              0.2222222222222222,
              "#7201a8"
             ],
             [
              0.3333333333333333,
              "#9c179e"
             ],
             [
              0.4444444444444444,
              "#bd3786"
             ],
             [
              0.5555555555555556,
              "#d8576b"
             ],
             [
              0.6666666666666666,
              "#ed7953"
             ],
             [
              0.7777777777777778,
              "#fb9f3a"
             ],
             [
              0.8888888888888888,
              "#fdca26"
             ],
             [
              1,
              "#f0f921"
             ]
            ],
            "type": "surface"
           }
          ],
          "table": [
           {
            "cells": {
             "fill": {
              "color": "#EBF0F8"
             },
             "line": {
              "color": "white"
             }
            },
            "header": {
             "fill": {
              "color": "#C8D4E3"
             },
             "line": {
              "color": "white"
             }
            },
            "type": "table"
           }
          ]
         },
         "layout": {
          "annotationdefaults": {
           "arrowcolor": "#2a3f5f",
           "arrowhead": 0,
           "arrowwidth": 1
          },
          "coloraxis": {
           "colorbar": {
            "outlinewidth": 0,
            "ticks": ""
           }
          },
          "colorscale": {
           "diverging": [
            [
             0,
             "#8e0152"
            ],
            [
             0.1,
             "#c51b7d"
            ],
            [
             0.2,
             "#de77ae"
            ],
            [
             0.3,
             "#f1b6da"
            ],
            [
             0.4,
             "#fde0ef"
            ],
            [
             0.5,
             "#f7f7f7"
            ],
            [
             0.6,
             "#e6f5d0"
            ],
            [
             0.7,
             "#b8e186"
            ],
            [
             0.8,
             "#7fbc41"
            ],
            [
             0.9,
             "#4d9221"
            ],
            [
             1,
             "#276419"
            ]
           ],
           "sequential": [
            [
             0,
             "#0d0887"
            ],
            [
             0.1111111111111111,
             "#46039f"
            ],
            [
             0.2222222222222222,
             "#7201a8"
            ],
            [
             0.3333333333333333,
             "#9c179e"
            ],
            [
             0.4444444444444444,
             "#bd3786"
            ],
            [
             0.5555555555555556,
             "#d8576b"
            ],
            [
             0.6666666666666666,
             "#ed7953"
            ],
            [
             0.7777777777777778,
             "#fb9f3a"
            ],
            [
             0.8888888888888888,
             "#fdca26"
            ],
            [
             1,
             "#f0f921"
            ]
           ],
           "sequentialminus": [
            [
             0,
             "#0d0887"
            ],
            [
             0.1111111111111111,
             "#46039f"
            ],
            [
             0.2222222222222222,
             "#7201a8"
            ],
            [
             0.3333333333333333,
             "#9c179e"
            ],
            [
             0.4444444444444444,
             "#bd3786"
            ],
            [
             0.5555555555555556,
             "#d8576b"
            ],
            [
             0.6666666666666666,
             "#ed7953"
            ],
            [
             0.7777777777777778,
             "#fb9f3a"
            ],
            [
             0.8888888888888888,
             "#fdca26"
            ],
            [
             1,
             "#f0f921"
            ]
           ]
          },
          "colorway": [
           "#636efa",
           "#EF553B",
           "#00cc96",
           "#ab63fa",
           "#FFA15A",
           "#19d3f3",
           "#FF6692",
           "#B6E880",
           "#FF97FF",
           "#FECB52"
          ],
          "font": {
           "color": "#2a3f5f"
          },
          "geo": {
           "bgcolor": "white",
           "lakecolor": "white",
           "landcolor": "#E5ECF6",
           "showlakes": true,
           "showland": true,
           "subunitcolor": "white"
          },
          "hoverlabel": {
           "align": "left"
          },
          "hovermode": "closest",
          "mapbox": {
           "style": "light"
          },
          "paper_bgcolor": "white",
          "plot_bgcolor": "#E5ECF6",
          "polar": {
           "angularaxis": {
            "gridcolor": "white",
            "linecolor": "white",
            "ticks": ""
           },
           "bgcolor": "#E5ECF6",
           "radialaxis": {
            "gridcolor": "white",
            "linecolor": "white",
            "ticks": ""
           }
          },
          "scene": {
           "xaxis": {
            "backgroundcolor": "#E5ECF6",
            "gridcolor": "white",
            "gridwidth": 2,
            "linecolor": "white",
            "showbackground": true,
            "ticks": "",
            "zerolinecolor": "white"
           },
           "yaxis": {
            "backgroundcolor": "#E5ECF6",
            "gridcolor": "white",
            "gridwidth": 2,
            "linecolor": "white",
            "showbackground": true,
            "ticks": "",
            "zerolinecolor": "white"
           },
           "zaxis": {
            "backgroundcolor": "#E5ECF6",
            "gridcolor": "white",
            "gridwidth": 2,
            "linecolor": "white",
            "showbackground": true,
            "ticks": "",
            "zerolinecolor": "white"
           }
          },
          "shapedefaults": {
           "line": {
            "color": "#2a3f5f"
           }
          },
          "ternary": {
           "aaxis": {
            "gridcolor": "white",
            "linecolor": "white",
            "ticks": ""
           },
           "baxis": {
            "gridcolor": "white",
            "linecolor": "white",
            "ticks": ""
           },
           "bgcolor": "#E5ECF6",
           "caxis": {
            "gridcolor": "white",
            "linecolor": "white",
            "ticks": ""
           }
          },
          "title": {
           "x": 0.05
          },
          "xaxis": {
           "automargin": true,
           "gridcolor": "white",
           "linecolor": "white",
           "ticks": "",
           "title": {
            "standoff": 15
           },
           "zerolinecolor": "white",
           "zerolinewidth": 2
          },
          "yaxis": {
           "automargin": true,
           "gridcolor": "white",
           "linecolor": "white",
           "ticks": "",
           "title": {
            "standoff": 15
           },
           "zerolinecolor": "white",
           "zerolinewidth": 2
          }
         }
        }
       }
      },
      "text/html": [
       "<div>\n",
       "        \n",
       "        \n",
       "            <div id=\"961f38ed-7d21-4e87-8b87-ff567411b518\" class=\"plotly-graph-div\" style=\"height:525px; width:100%;\"></div>\n",
       "            <script type=\"text/javascript\">\n",
       "                require([\"plotly\"], function(Plotly) {\n",
       "                    window.PLOTLYENV=window.PLOTLYENV || {};\n",
       "                    \n",
       "                if (document.getElementById(\"961f38ed-7d21-4e87-8b87-ff567411b518\")) {\n",
       "                    Plotly.newPlot(\n",
       "                        '961f38ed-7d21-4e87-8b87-ff567411b518',\n",
       "                        [{\"hoverlabel\": {\"namelength\": 0}, \"hovertemplate\": \"latitude=%{lat}<br>longitude=%{lon}<br>nitroTropo=%{marker.color}\", \"lat\": [32.40721130371094, 32.44925308227539, 32.49066925048828, 32.531471252441406, 32.571678161621094, 32.61130905151367, 32.65037155151367, 32.68888473510742, 32.726863861083984, 32.764320373535156, 32.801265716552734, 32.837711334228516, 32.87367248535156, 32.90916061401367, 32.944183349609375, 32.978755950927734, 33.012882232666016, 33.04658126831055, 33.07985305786133, 33.11271286010742, 33.14516830444336, 33.19310760498047, 33.25569534301758, 33.31681442260742, 33.37651824951172, 33.434871673583984, 33.49192428588867, 33.54772186279297, 33.602317810058594, 33.65575408935547, 33.708072662353516, 33.75931167602539, 33.80950927734375, 33.85870361328125, 33.906925201416016, 33.9542121887207, 34.00059127807617, 34.04609298706055, 34.09074783325195, 34.13457489013672, 34.177608489990234, 34.21986770629883, 34.261375427246094, 34.30215835571289, 34.34223556518555, 34.38162612915039, 34.420352935791016, 34.458431243896484, 34.49588394165039, 34.53272247314453, 34.568965911865234, 34.60462951660156, 34.639732360839844, 34.674285888671875, 34.70830535888672, 34.74180221557617, 34.77479553222656, 34.80729293823242, 34.83930587768555, 34.870849609375, 34.90193557739258, 34.93257522583008, 34.96277618408203, 34.992549896240234, 35.021907806396484, 35.05085754394531, 35.079410552978516, 35.107574462890625, 35.13536071777344, 35.16277313232422, 35.18982696533203, 35.216522216796875, 35.24287033081055, 35.26887893676758, 35.2945556640625, 35.31990432739258, 35.34493637084961, 35.369659423828125, 35.394073486328125, 35.418190002441406, 35.442012786865234, 35.46554946899414, 35.48880386352539, 35.51177978515625, 35.534488677978516, 35.55693435668945, 35.57911682128906, 35.60104751586914, 35.62272644042969, 35.64415740966797, 35.66535186767578, 35.686309814453125, 35.70703887939453, 35.727535247802734, 35.7478141784668, 35.76787185668945, 35.78771209716797, 35.80734634399414, 35.8267707824707, 35.84598922729492, 35.865013122558594, 35.88383865356445, 35.902469635009766, 35.9209098815918, 35.93916702270508, 35.95724105834961, 35.975135803222656, 35.99285125732422, 36.01039505004883, 36.027767181396484, 36.04497146606445, 36.06201171875, 36.078887939453125, 36.095603942871094, 36.11216354370117, 36.128570556640625, 36.14482498168945, 36.160926818847656, 36.176883697509766, 36.19269561767578, 36.20836639404297, 36.22389602661133, 36.239288330078125, 36.25454330444336, 36.2696647644043, 36.28465270996094, 36.29951477050781, 36.314247131347656, 36.328857421875, 36.34334182739258, 36.357704162597656, 36.371944427490234, 36.386070251464844, 36.40007781982422, 36.413970947265625, 36.42774963378906, 36.4414176940918, 36.454978942871094, 36.46842956542969, 36.48177719116211, 36.495018005371094, 36.50815200805664, 36.52119064331055, 36.534122467041016, 36.546958923339844, 36.55970001220703, 36.57234191894531, 36.58488845825195, 36.59734344482422, 36.60970687866211, 36.621978759765625, 36.634159088134766, 36.64625549316406, 36.658260345458984, 36.67018127441406, 36.6820182800293, 36.69377136230469, 36.7054443359375, 36.71703338623047, 36.72854232788086, 36.73997497558594, 36.75132751464844, 36.762603759765625, 36.773799896240234, 36.78492736816406, 36.79597854614258, 36.80695724487305, 36.81786346435547, 36.828697204589844, 36.83946228027344, 36.85015869140625, 36.86079025268555, 36.8713493347168, 36.88184356689453, 36.89227294921875, 36.90263748168945, 36.91293716430664, 36.92317199707031, 36.933349609375, 36.94346237182617, 36.953514099121094, 36.963504791259766, 36.97343826293945, 36.983314514160156, 36.99312973022461, 37.002891540527344, 37.01259231567383, 37.022239685058594, 37.03183364868164, 37.0413703918457, 37.05085754394531, 37.06028747558594, 37.06966781616211, 37.07899475097656, 37.08827209472656, 37.097496032714844, 37.10667037963867, 37.11579895019531, 37.124874114990234, 37.13390350341797, 37.142887115478516, 37.15182113647461, 37.160709381103516, 37.169551849365234, 37.178348541259766, 37.18709945678711, 37.195804595947266, 37.2044677734375, 37.21308898925781, 37.22166442871094, 37.23019790649414, 37.23868942260742, 37.24713897705078, 37.25554656982422, 37.263916015625, 37.27224349975586, 37.2805290222168, 37.288780212402344, 37.2969856262207, 37.30515670776367, 37.313289642333984, 37.32138442993164, 37.32944107055664, 37.337459564208984, 37.34544372558594, 37.353389739990234, 37.361297607421875, 37.36917495727539, 37.37701416015625, 37.38481903076172, 37.39258575439453, 37.40032196044922, 37.408023834228516, 37.41569137573242, 37.42332458496094, 37.43092346191406, 37.43849182128906, 37.44602966308594, 37.45353317260742, 37.461002349853516, 37.468441009521484, 37.47584915161133, 37.48322677612305, 37.49057388305664, 37.497886657714844, 37.50517272949219, 37.512428283691406, 37.5196533203125, 37.52684783935547, 37.53401184082031, 37.5411491394043, 37.548255920410156, 37.55533218383789, 37.562381744384766, 37.569400787353516, 37.576393127441406, 37.58335876464844, 37.590293884277344, 37.59720230102539, 37.60408401489258, 37.61093521118164, 37.61776351928711, 37.62456130981445, 37.63133239746094, 37.63807678222656, 37.644798278808594, 37.6514892578125, 37.65815353393555, 37.664791107177734, 37.67140579223633, 37.6779899597168, 37.68455123901367, 37.69108581542969, 37.697593688964844, 37.704078674316406, 37.710533142089844, 37.71696472167969, 37.72337341308594, 37.72975158691406, 37.736106872558594, 37.74243927001953, 37.748741149902344, 37.75502395629883, 37.76127624511719, 37.76750564575195, 37.773712158203125, 37.77988815307617, 37.78604507446289, 37.792171478271484, 37.79827880859375, 37.80435562133789, 37.81040954589844, 37.81644058227539, 37.822444915771484, 37.82842254638672, 37.83437728881836, 37.84030532836914, 37.84621047973633, 37.852088928222656, 37.85794448852539, 37.863773345947266, 37.86957550048828, 37.8753547668457, 37.881103515625, 37.88683319091797, 37.89253234863281, 37.89820861816406, 37.90385818481445, 37.90948486328125, 37.91508102416992, 37.920654296875, 37.92619705200195, 37.93171691894531, 37.93721008300781, 37.94267654418945, 37.948116302490234, 37.953529357910156, 37.95891571044922, 37.964271545410156, 37.9696044921875, 37.97490692138672, 37.98018264770508, 37.98542785644531, 37.99064636230469, 37.9958381652832, 38.000999450683594, 38.00613021850586, 38.011234283447266, 38.01630783081055, 38.02135467529297, 38.0263671875, 38.031349182128906, 38.03630447387695, 38.04122543334961, 38.04611587524414, 38.05097579956055, 38.05580139160156, 38.06059646606445, 38.06535720825195, 38.07008743286133, 38.07477951049805, 38.07944107055664, 38.084068298339844, 38.088661193847656, 38.09321594238281, 38.09773635864258, 38.10222244262695, 38.10667037963867, 38.111080169677734, 38.11545181274414, 38.11978530883789, 38.124080657958984, 38.128334045410156, 38.13254928588867, 38.13672637939453, 38.1408576965332, 38.14494705200195, 38.14899444580078, 38.15299987792969, 38.156959533691406, 38.16087341308594, 38.16474151611328, 38.16856002807617, 38.17233657836914, 38.17605972290039, 38.17973709106445, 38.1833610534668, 38.18693542480469, 38.19045639038086, 38.19392395019531, 38.19733428955078, 38.20069122314453, 38.2039909362793, 38.20723342895508, 38.21041488647461, 38.213539123535156, 38.21659851074219, 38.2195930480957, 38.22252655029297, 38.22539138793945, 38.228187561035156, 38.23091506958008, 38.23357009887695, 38.23615264892578, 38.2386589050293, 38.2410888671875, 38.24344253540039, 38.24571228027344, 38.247901916503906, 38.250003814697266, 38.252017974853516, 38.253944396972656, 38.25577926635742, 38.25751495361328, 38.2591552734375, 38.26069641113281, 38.26213073730469, 38.26346206665039, 38.264678955078125, 38.265785217285156, 38.26677703857422, 38.267642974853516, 38.26839065551758, 38.269004821777344, 38.26948928833008, 38.269832611083984, 38.27003860473633, 38.27009582519531, 38.27000045776367, 38.26974868774414, 38.26933288574219, 38.26874923706055, 38.26799011230469, 38.26704788208008, 38.26591491699219, 38.26458740234375, 38.26305389404297, 38.26130676269531, 38.259342193603516, 38.25714111328125, 38.254703521728516, 38.252010345458984, 38.24905776977539, 38.24583053588867, 38.242313385009766, 38.23849868774414, 38.2343635559082, 38.22990417480469, 38.225093841552734, 38.221248626708984, 38.21856689453125, 38.215789794921875, 38.21290969848633, 38.209930419921875, 38.206844329833984, 38.20364761352539, 38.20034408569336, 38.19692611694336, 38.193389892578125, 38.18973159790039, 38.185951232910156, 38.18204116821289, 38.178001403808594, 38.173828125, 38.16951370239258, 38.16505432128906, 38.16044998168945, 38.15568923950195, 38.15077590942383], \"legendgroup\": \"\", \"lon\": [117.17803192138672, 117.26338958740234, 117.34767150878906, 117.430908203125, 117.51313018798828, 117.59435272216797, 117.67461395263672, 117.7539291381836, 117.83231353759766, 117.90980529785156, 117.98641204833984, 118.06216430664062, 118.13707733154297, 118.21116638183594, 118.28445434570312, 118.35694885253906, 118.4286880493164, 118.49967193603516, 118.56991577148438, 118.63944244384766, 118.70826721191406, 118.81021118164062, 118.94380187988281, 119.07482147216797, 119.203369140625, 119.32953643798828, 119.45342254638672, 119.5750961303711, 119.69464874267578, 119.8121566772461, 119.92768096923828, 120.04129028320312, 120.15306091308594, 120.26304626464844, 120.37129974365234, 120.4778823852539, 120.58285522460938, 120.6862564086914, 120.78813934326172, 120.88854217529297, 120.9875259399414, 121.08512115478516, 121.18136596679688, 121.27630615234375, 121.36997985839844, 121.46240997314453, 121.55364990234375, 121.64372253417969, 121.73265075683594, 121.82048034667969, 121.90723419189453, 121.9929428100586, 122.07762908935547, 122.16132354736328, 122.2440414428711, 122.32582092285156, 122.40668487548828, 122.48664093017578, 122.56572723388672, 122.64395904541016, 122.72135162353516, 122.79793548583984, 122.87371826171875, 122.94872283935547, 123.02297973632812, 123.09648132324219, 123.16926574707031, 123.24134063720703, 123.31272888183594, 123.38343048095703, 123.45347595214844, 123.52287292480469, 123.59163665771484, 123.65978240966797, 123.7273178100586, 123.79426574707031, 123.86062622070312, 123.92642211914062, 123.99165344238281, 124.05635070800781, 124.1205062866211, 124.18414306640625, 124.24726104736328, 124.30988311767578, 124.37200927734375, 124.43365478515625, 124.49482727050781, 124.5555419921875, 124.61579132080078, 124.67560577392578, 124.73497772216797, 124.7939224243164, 124.85244750976562, 124.91056823730469, 124.96827697753906, 125.02558898925781, 125.08251953125, 125.1390609741211, 125.19523620605469, 125.25103759765625, 125.30648040771484, 125.361572265625, 125.41631317138672, 125.47071838378906, 125.52478790283203, 125.57852935791016, 125.63195037841797, 125.68505859375, 125.73784637451172, 125.79033660888672, 125.842529296875, 125.89442443847656, 125.94603729248047, 125.99736022949219, 126.04840850830078, 126.09918975830078, 126.14969635009766, 126.19994354248047, 126.24993133544922, 126.2996597290039, 126.34915161132812, 126.39839172363281, 126.4473876953125, 126.49615478515625, 126.54468536376953, 126.5929946899414, 126.64107513427734, 126.6889419555664, 126.7365951538086, 126.78402709960938, 126.83126068115234, 126.87828826904297, 126.92511749267578, 126.97174835205078, 127.0181884765625, 127.06443786621094, 127.11050415039062, 127.15637969970703, 127.20208740234375, 127.24761199951172, 127.29296875, 127.3381576538086, 127.3831787109375, 127.42803955078125, 127.47274017333984, 127.51728057861328, 127.5616683959961, 127.60591125488281, 127.6500015258789, 127.69395446777344, 127.73775482177734, 127.78142547607422, 127.824951171875, 127.86835479736328, 127.91162109375, 127.95475769042969, 127.99777221679688, 128.04066467285156, 128.08343505859375, 128.12608337402344, 128.1686248779297, 128.21104431152344, 128.25335693359375, 128.29556274414062, 128.33767700195312, 128.37966918945312, 128.42156982421875, 128.46336364746094, 128.50506591796875, 128.5466766357422, 128.58819580078125, 128.62962341308594, 128.6709747314453, 128.7122344970703, 128.75340270996094, 128.7945098876953, 128.8355255126953, 128.87646484375, 128.91732788085938, 128.9581298828125, 128.9988555908203, 129.03952026367188, 129.08010864257812, 129.12063598632812, 129.16110229492188, 129.20150756835938, 129.2418670654297, 129.2821502685547, 129.32240295410156, 129.3625946044922, 129.40272521972656, 129.4428253173828, 129.4828643798828, 129.5228729248047, 129.56283569335938, 129.60275268554688, 129.64263916015625, 129.68247985839844, 129.7222900390625, 129.76206970214844, 129.80181884765625, 129.84153747558594, 129.88124084472656, 129.9208984375, 129.96054077148438, 130.0001678466797, 130.03976440429688, 130.07936096191406, 130.11892700195312, 130.15847778320312, 130.19802856445312, 130.237548828125, 130.27706909179688, 130.31658935546875, 130.35609436035156, 130.39561462402344, 130.43511962890625, 130.47462463378906, 130.51412963867188, 130.5536346435547, 130.59315490722656, 130.63267517089844, 130.67221069335938, 130.7117462158203, 130.75131225585938, 130.79087829589844, 130.83045959472656, 130.8700714111328, 130.90969848632812, 130.9493408203125, 130.989013671875, 131.02870178222656, 131.0684356689453, 131.10818481445312, 131.14796447753906, 131.18777465820312, 131.22763061523438, 131.26751708984375, 131.30743408203125, 131.34739685058594, 131.3874053955078, 131.42745971679688, 131.46755981445312, 131.50770568847656, 131.5478973388672, 131.588134765625, 131.62843322753906, 131.66879272460938, 131.70919799804688, 131.7496795654297, 131.7902069091797, 131.83079528808594, 131.8714599609375, 131.9121856689453, 131.95298767089844, 131.9938507080078, 132.03480529785156, 132.07582092285156, 132.11691284179688, 132.1580810546875, 132.1993408203125, 132.2406768798828, 132.2821044921875, 132.32362365722656, 132.365234375, 132.40692138671875, 132.44871520996094, 132.49061584472656, 132.5325927734375, 132.57469177246094, 132.61688232421875, 132.65919494628906, 132.70159912109375, 132.74412536621094, 132.78675842285156, 132.8295135498047, 132.87237548828125, 132.9153594970703, 132.95848083496094, 133.00172424316406, 133.0450897216797, 133.08859252929688, 133.13221740722656, 133.17599487304688, 133.2198944091797, 133.26394653320312, 133.30813598632812, 133.3524932861328, 133.39697265625, 133.44161987304688, 133.48641967773438, 133.53138732910156, 133.57650756835938, 133.62179565429688, 133.66725158691406, 133.71287536621094, 133.7586669921875, 133.80465698242188, 133.85081481933594, 133.89715576171875, 133.9436798095703, 133.9904022216797, 134.0373077392578, 134.0844268798828, 134.13172912597656, 134.1792449951172, 134.2269744873047, 134.27490234375, 134.32305908203125, 134.37142944335938, 134.42001342773438, 134.46884155273438, 134.51788330078125, 134.56716918945312, 134.61669921875, 134.66647338867188, 134.71649169921875, 134.76675415039062, 134.81727600097656, 134.86805725097656, 134.9191131591797, 134.97042846679688, 135.02203369140625, 135.0738983154297, 135.1260528564453, 135.1785125732422, 135.2312469482422, 135.28428649902344, 135.33763122558594, 135.39129638671875, 135.4452667236328, 135.4995574951172, 135.55418395996094, 135.609130859375, 135.6644287109375, 135.72006225585938, 135.7760467529297, 135.83238220214844, 135.88909912109375, 135.9461669921875, 136.00363159179688, 136.06146240234375, 136.11968994140625, 136.17831420898438, 136.23733520507812, 136.29678344726562, 136.3566436767578, 136.4169158935547, 136.47764587402344, 136.53880310058594, 136.6004180908203, 136.66250610351562, 136.72503662109375, 136.78807067871094, 136.85157775878906, 136.9155731201172, 136.98008728027344, 137.04510498046875, 137.11065673828125, 137.17674255371094, 137.2433624267578, 137.310546875, 137.3782958984375, 137.44662475585938, 137.5155487060547, 137.58506774902344, 137.6551971435547, 137.72596740722656, 137.79736328125, 137.86941528320312, 137.94212341308594, 138.01553344726562, 138.08961486816406, 138.16441345214844, 138.2399444580078, 138.3162078857422, 138.39321899414062, 138.47100830078125, 138.54959106445312, 138.62896728515625, 138.7091827392578, 138.79022216796875, 138.87213134765625, 138.95492553710938, 139.0386199951172, 139.12322998046875, 139.2087860107422, 139.29531860351562, 139.38282775878906, 139.47134399414062, 139.5609130859375, 139.6515350341797, 139.74325561523438, 139.83607482910156, 139.9300537109375, 140.0251922607422, 140.12155151367188, 140.21913146972656, 140.31797790527344, 140.4181365966797, 140.51962280273438, 140.6224822998047, 140.7267608642578, 140.8324737548828, 140.93968200683594, 141.0484161376953, 141.1587371826172, 141.2706756591797, 141.38429260253906, 141.49961853027344, 141.61671447753906, 141.7356414794922, 141.85646057128906, 141.97921752929688, 142.10397338867188, 142.23080444335938, 142.3597869873047, 142.490966796875, 142.6244354248047, 142.76026916503906, 142.8985595703125, 143.0393829345703, 143.18284606933594, 143.3290252685547, 143.47802734375, 143.62998962402344, 143.7849884033203, 143.94317626953125, 144.1046600341797, 144.22802734375, 144.31137084960938, 144.3956298828125, 144.48081970214844, 144.56695556640625, 144.65403747558594, 144.74212646484375, 144.8312225341797, 144.92135620117188, 145.01254272460938, 145.1048126220703, 145.19818115234375, 145.29269409179688, 145.38836669921875, 145.4852294921875, 145.5832977294922, 145.68263244628906, 145.78323364257812, 145.88516235351562, 145.98841857910156], \"marker\": {\"color\": [0.00029333896236494184, 0.00015176030865404755, -8.594623795943335e-05, -0.00018472828378435224, 0.00013108020357321948, 3.5782937629846856e-05, 0.00013355053670238703, -8.836267079459503e-05, -3.3673582947812974e-05, -0.00012596248416230083, 5.52460624021478e-05, -7.561625352536794e-06, 6.601205677725375e-05, 2.7593776394496672e-05, -4.817321951122722e-06, -6.170802225824445e-05, 3.2219697459368035e-05, 3.379345071152784e-05, -1.8966382413054816e-05, -7.772228855174035e-05, 7.08587140252348e-06, 9.318278898717836e-05, 8.878078369889408e-05, 0.00019192176114302129, 0.0001670387719059363, 6.84849001117982e-05, 0.00011642745084827766, 9.710288577480242e-05, 8.619252912467346e-05, 3.886307604261674e-05, 4.238674955558963e-05, 4.434277070686221e-05, 5.7347129768459126e-05, 5.491163756232709e-05, 7.256967364810407e-05, 7.716917025391012e-05, 5.507427704287693e-05, 6.113409472163767e-05, 5.969830817775801e-05, 6.738438969478011e-05, 7.22130571375601e-05, 5.426971256383695e-05, 7.307521445909515e-05, 5.956107270321809e-05, 7.191127951955423e-05, 7.581408135592937e-05, 5.834661715198308e-05, 3.3363307011313736e-05, 3.089132223976776e-05, 3.2174852094613016e-05, 3.1573468731949106e-05, 2.971271715068724e-05, 2.8169954020995647e-05, 2.9626218747580424e-05, 2.9404980523395352e-05, 3.288269363110885e-05, 2.604468863864895e-05, 2.622053216327913e-05, 2.035821307799779e-05, 1.788597000995651e-05, 3.197638943674974e-05, 3.0411554689635523e-05, 4.297750274417922e-05, 3.49686924892012e-05, 2.8300197300268337e-05, 2.980014141940046e-05, 2.5021372493938543e-05, 2.0835257600992918e-05, 3.3220345358131453e-05, 3.905961420969106e-05, 3.4169828722951934e-05, 2.8175396437291056e-05, 3.994453800260089e-05, 3.642236697487533e-05, 3.2100910175358877e-05, 3.027533966815099e-05, 2.661723738128785e-05, 2.8110785933677107e-05, 2.6272869945387356e-05, 2.1867161194677465e-05, 2.283241701661609e-05, 2.4880439013941213e-05, 2.264473368995823e-05, 2.0493100237217732e-05, 2.1104980987729505e-05, 2.0358611436677165e-05, 2.2659936803393066e-05, 2.465864599798806e-05, 2.3133939976105466e-05, 2.0738798411912285e-05, 2.267783747811336e-05, 2.2280268240137957e-05, 1.9486358723952435e-05, 2.5091319912462495e-05, 2.4029393898672424e-05, 2.9373475626925938e-05, 3.126625233562663e-05, 2.351853618165478e-05, 2.360194775974378e-05, 1.8070286387228407e-05, 1.5398662071675062e-05, 1.3466086784319486e-05, 1.1185898074472789e-05, 1.4624785762862302e-05, 1.498748952144524e-05, 1.709585376374889e-05, 1.4297278539743274e-05, 1.8667591575649567e-05, 2.479182330716867e-05, 1.751182571751997e-05, 2.7842541385325603e-05, 2.6496527425479144e-05, 1.68794267665362e-05, 2.056886842183303e-05, 2.345669417991303e-05, 3.731758624780923e-05, 3.5937438951805234e-05, 3.319215829833411e-05, 2.8367356208036654e-05, 4.302717570681125e-05, 3.5781100450549275e-05, 4.8915695515461266e-05, 4.5186221541371197e-05, 5.724373477278277e-05, 5.8879497373709455e-05, 5.927402162342332e-05, 6.0645932535408065e-05, 3.515959542710334e-05, 5.093053914606571e-05, 5.931693158345297e-05, 4.93490879307501e-05, 6.591626151930541e-05, 4.3306496081640944e-05, 6.372862844727933e-05, 3.388785626157187e-05, 6.355492223519832e-05, 5.6574375776108354e-05, 7.453993748640642e-05, 1.057389090419747e-05, 2.5849631128949113e-05, 2.4713246602914296e-05, 3.087255026912317e-05, 4.1816172597464174e-05, 2.5523271688143723e-05, 2.0684268747572787e-05, 4.0917017031461e-05, 3.539977842592634e-05, 2.4511075025657192e-05, 2.6794950827024877e-05, 4.077559060533531e-05, 4.314438047003932e-05, 4.934945172863081e-05, 4.046172398375347e-05, 3.586630919016898e-05, 3.321280746604316e-05, 2.1617950551444665e-05, 1.70874445757363e-05, 2.6826079192687757e-05, 2.707386556721758e-05, 3.2948784792097285e-05, 3.324414137750864e-05, 1.2954308658663649e-05, 2.2183910914463922e-05, 3.0320845326059498e-05, 2.8204478439874947e-05, 1.987953692150768e-05, 1.6870108083821833e-05, 2.4626540835015476e-05, 4.077317862538621e-05, 4.1271916416008025e-05, 3.350921906530857e-05, 1.9674611394293606e-05, 4.863712820224464e-05, 4.723568417830393e-05, 9.722606591822114e-06, 1.4232291505322792e-05, 1.711328513920307e-05, 3.551409827196039e-05, 2.8820650186389685e-05, 2.466267869749572e-05, 1.7046391803887673e-05, 2.8327713152975775e-05, 3.2695428672013804e-05, 2.7213181965635158e-05, 3.0060229619266465e-05, 3.595832458813675e-05, 5.606501144939102e-05, 3.0588562367483974e-05, 5.711877020075917e-05, 4.862873538513668e-05, 5.5502703617094085e-05, 7.566092244815081e-05, 6.299748201854527e-05, 7.213552453322336e-05, 7.542398088844493e-05, 5.688348028343171e-05, 7.819340680725873e-05, 7.040781201794744e-05, 7.130612357286736e-05, 5.4798470955574885e-05, 4.054111195728183e-05, 4.6817272959742695e-05, 2.6058332878164947e-05, 3.236826159991324e-05, 2.8856902645202354e-05, 2.9407137844827957e-05, 2.2892221750225872e-05, 3.2753108826000243e-05, 4.08010819228366e-05, 2.88087048829766e-05, 2.31529884331394e-05, 3.08757480524946e-05, 2.6399322450743057e-05, 3.374948937562294e-05, 2.959759694931563e-05, 8.298975444631651e-06, 2.7738360586226918e-05, 2.8463347916840576e-05, 2.1529018340515904e-05, 2.495627813914325e-05, 1.722214074106887e-05, 2.4091528757708147e-05, 2.0599054550984874e-05, 1.4852489584882278e-05, 2.2917256501386873e-05, 7.364350949501386e-06, 2.7889105695066974e-05, 1.2469960893213283e-05, 1.5640538549632765e-05, 1.2933319339936133e-05, 1.4450952221523039e-05, 2.383179889875464e-05, 3.036270209122449e-05, 1.5016459656180814e-05, 2.197397407144308e-05, 1.6771888112998568e-05, 7.19443551133736e-06, 1.919812712003477e-05, 2.409896842436865e-05, 1.5094589798536617e-05, 1.321563649980817e-05, 1.8066139091388322e-05, 2.131501787516754e-05, 1.4124322660791222e-05, 1.197396431962261e-05, 1.4869936421746388e-05, 1.752070056681987e-05, 9.178451364277862e-06, 5.4675738283549435e-06, 8.696208169567399e-06, 1.1169358003826346e-05, 1.9157707356498577e-05, 2.2522090148413554e-05, 2.2014593923813663e-05, 1.7100512195611373e-05, 1.616622830624692e-05, 1.563195291964803e-05, 8.691774382896256e-06, 1.4744314285053406e-05, 1.5291783711290918e-05, 1.098728444048902e-05, 1.3063162441540044e-05, 1.0132135685125832e-05, 1.9024622815777548e-05, 7.684100637561642e-06, 1.3529177522286773e-05, 2.5535107852192596e-05, 1.8630162230692804e-05, 1.8432388969813474e-05, 8.551119208277669e-06, 1.1971668754995335e-05, 1.4126278074400034e-05, 8.391730261791963e-06, 1.3171644241083413e-05, 1.105677438317798e-05, 1.1634089787548874e-05, 1.627849087526556e-05, 2.100842903018929e-05, 2.0861942175542936e-05, 2.3257040083990432e-05, 2.2204148990567774e-05, 2.2206490029930137e-05, 1.7931988622876815e-05, 1.6242905985563993e-05, 2.13170478673419e-05, 9.125871656578965e-06, 1.3236144695838448e-05, 8.76865851751063e-06, 1.2165890439064242e-05, 1.2969568160769995e-05, 2.1047762857051566e-05, 2.1565194401773624e-05, 2.366605076531414e-05, 1.4665875823993701e-05, 1.1971125786658376e-05, 2.1760442905360833e-05, 1.8464588720235042e-05, 2.3360204068012536e-05, 2.4298868083860725e-05, 2.5945575544028543e-05, 2.238448905700352e-05, 2.1773617845610715e-05, 1.9691189663717523e-05, 1.0004928299167659e-05, 2.694584327400662e-05, 3.116847074124962e-05, 3.1950126867741346e-05, 3.2293275580741465e-05, 3.160287087666802e-05, 2.2265534425969236e-05, 3.543857383192517e-05, 1.170389532489935e-05, 2.791713450278621e-05, 3.5045046388404444e-05, 3.320496762171388e-05, 3.761916741495952e-05, 3.2995394576573744e-05, 3.3228385291295126e-05, 3.1870520615484565e-05, 4.3425319745438173e-05, 2.3089534806786105e-05, 3.911715975846164e-05, 3.4528948162915185e-05, 3.396465763216838e-05, 3.927818761439994e-05, 3.9744340028846636e-05, 4.2629770177882165e-05, 2.270404002047144e-05, 2.0958743334631436e-05, 1.8026046745944768e-05, 1.6935462554101832e-05, 1.7379745258949697e-05, 2.4049682906479575e-05, 2.074893745884765e-05, 2.0872272216365673e-05, 2.1126250430825166e-05, 1.6962272638920695e-05, 1.5591112969559617e-05, 2.0466502974159084e-05, 1.6398784282500856e-05, 3.3188844099640846e-05, 3.621303039835766e-05, 3.3684089430607855e-05, 2.376721204200294e-05, 2.2425032511819154e-05, 2.8916183509863913e-05, 2.8083211873308755e-05, 3.251465386711061e-05, 3.097610533586703e-05, 2.6869964131037705e-05, 2.829356526490301e-05, 2.2613454348174855e-05, 2.594494799268432e-05, 2.2192893084138632e-05, 2.38936445384752e-05, 2.6946003345074132e-05, 2.626588502607774e-05, 3.826356987701729e-05, 3.644906610134058e-05, 3.9893624489195645e-05, 2.9127320885891095e-05, 3.347518577356823e-05, 3.5840217606164515e-05, 3.433369056438096e-05, 3.5357632441446185e-05, 2.842378307832405e-05, 3.121386544080451e-05, 2.8673390261246823e-05, 3.344179276609793e-05, 2.6992183848051354e-05, 3.211287912563421e-05, 3.59353180101607e-05, 2.9361450287979096e-05, 3.655859109130688e-05, 3.257463686168194e-05, 3.021874545083847e-05, 3.064168049604632e-05, 3.0520710424752906e-05, 3.3888100006151944e-05, 3.283488331362605e-05, 2.6290264941053465e-05, 3.724706039065495e-05, 3.203718370059505e-05, 2.8791695513064042e-05, 2.9765740691800602e-05, 2.8650820240727626e-05, 2.7067926566815004e-05, 3.7372432416304946e-05, 3.7116660678293556e-05, 3.795470911427401e-05, 3.802531864494085e-05, 3.06140718748793e-05, 3.7385580071713775e-05, 3.504945198073983e-05, 3.2102474506245926e-05, 2.7893645892618224e-05, 3.108872624579817e-05, 5.136286927154288e-05, 4.1140359826385975e-05, 3.7506993976421654e-05, 4.0823095332598314e-05, 4.590594471665099e-05, 4.4451331632444635e-05, 3.449283030931838e-05, 3.60581798304338e-05, 3.548251333995722e-05, 3.156046295771375e-05, 2.5956327590392902e-05, 2.6952324333251454e-05, 2.697526360861957e-05, 2.886205038521439e-05, 2.700691948120948e-05, 2.254599894513376e-05, 2.975729512399994e-05, 3.609826308093034e-05, 2.817819404299371e-05, 3.055160414078273e-05, 2.2025127691449597e-05, 2.492697058187332e-05, 3.0650593544123694e-05, 3.563621794455685e-05, 3.6522160371532664e-05, 3.370507329236716e-05, 4.1209470509784296e-05, 3.597164322854951e-05, 3.432507219258696e-05, 3.850661596516147e-05, 4.422371421242133e-05, 4.597519728122279e-05, 3.518322773743421e-05, 2.852172292477917e-05, 3.707093128468841e-05, 3.118464883300476e-05, 3.7188499845797196e-05, 4.4905515096616e-05, 3.7138539482839406e-05, 2.497620153008029e-05, 4.5707998651778325e-05, 4.782506584888324e-05, 5.6061493523884565e-05, 4.671478382078931e-05, 3.2269810617435724e-05, 5.311001950758509e-05, 4.109496148885228e-05, 4.675868694903329e-05, 5.6239972764160484e-05, 7.675649976590648e-05, 5.7227356592193246e-05, 6.086132998461835e-05], \"coloraxis\": \"coloraxis\"}, \"mode\": \"markers\", \"name\": \"\", \"showlegend\": false, \"subplot\": \"mapbox\", \"type\": \"scattermapbox\"}],\n",
       "                        {\"coloraxis\": {\"colorbar\": {\"title\": {\"text\": \"nitroTropo\"}}, \"colorscale\": [[0.0, \"#000000\"], [0.0625, \"#001f4d\"], [0.125, \"#003786\"], [0.1875, \"#0e58a8\"], [0.25, \"#217eb8\"], [0.3125, \"#30a4ca\"], [0.375, \"#54c8df\"], [0.4375, \"#9be4ef\"], [0.5, \"#e1e9d1\"], [0.5625, \"#f3d573\"], [0.625, \"#e7b000\"], [0.6875, \"#da8200\"], [0.75, \"#c65400\"], [0.8125, \"#ac2301\"], [0.875, \"#820000\"], [0.9375, \"#4c0000\"], [1.0, \"#040100\"]]}, \"legend\": {\"tracegroupgap\": 0}, \"mapbox\": {\"accesstoken\": \"pk.eyJ1Ijoia2V2aW5ib3lsZTc3MTciLCJhIjoiY2s5aWl6enFpMDI3eDNubjJvZWdiMTdzYSJ9.VKSafIe0zsLVMCswKycFyQ\", \"center\": {\"lat\": 36.814212799072266, \"lon\": 130.9608154296875}, \"domain\": {\"x\": [0.0, 1.0], \"y\": [0.0, 1.0]}, \"style\": \"dark\", \"zoom\": 10}, \"margin\": {\"t\": 60}, \"template\": {\"data\": {\"bar\": [{\"error_x\": {\"color\": \"#2a3f5f\"}, \"error_y\": {\"color\": \"#2a3f5f\"}, \"marker\": {\"line\": {\"color\": \"#E5ECF6\", \"width\": 0.5}}, \"type\": \"bar\"}], \"barpolar\": [{\"marker\": {\"line\": {\"color\": \"#E5ECF6\", \"width\": 0.5}}, \"type\": \"barpolar\"}], \"carpet\": [{\"aaxis\": {\"endlinecolor\": \"#2a3f5f\", \"gridcolor\": \"white\", \"linecolor\": \"white\", \"minorgridcolor\": \"white\", \"startlinecolor\": \"#2a3f5f\"}, \"baxis\": {\"endlinecolor\": \"#2a3f5f\", \"gridcolor\": \"white\", \"linecolor\": \"white\", \"minorgridcolor\": \"white\", \"startlinecolor\": \"#2a3f5f\"}, \"type\": \"carpet\"}], \"choropleth\": [{\"colorbar\": {\"outlinewidth\": 0, \"ticks\": \"\"}, \"type\": \"choropleth\"}], \"contour\": [{\"colorbar\": {\"outlinewidth\": 0, \"ticks\": \"\"}, \"colorscale\": [[0.0, \"#0d0887\"], [0.1111111111111111, \"#46039f\"], [0.2222222222222222, \"#7201a8\"], [0.3333333333333333, \"#9c179e\"], [0.4444444444444444, \"#bd3786\"], [0.5555555555555556, \"#d8576b\"], [0.6666666666666666, \"#ed7953\"], [0.7777777777777778, \"#fb9f3a\"], [0.8888888888888888, \"#fdca26\"], [1.0, \"#f0f921\"]], \"type\": \"contour\"}], \"contourcarpet\": [{\"colorbar\": {\"outlinewidth\": 0, \"ticks\": \"\"}, \"type\": \"contourcarpet\"}], \"heatmap\": [{\"colorbar\": {\"outlinewidth\": 0, \"ticks\": \"\"}, \"colorscale\": [[0.0, \"#0d0887\"], [0.1111111111111111, \"#46039f\"], [0.2222222222222222, \"#7201a8\"], [0.3333333333333333, \"#9c179e\"], [0.4444444444444444, \"#bd3786\"], [0.5555555555555556, \"#d8576b\"], [0.6666666666666666, \"#ed7953\"], [0.7777777777777778, \"#fb9f3a\"], [0.8888888888888888, \"#fdca26\"], [1.0, \"#f0f921\"]], \"type\": \"heatmap\"}], \"heatmapgl\": [{\"colorbar\": {\"outlinewidth\": 0, \"ticks\": \"\"}, \"colorscale\": [[0.0, \"#0d0887\"], [0.1111111111111111, \"#46039f\"], [0.2222222222222222, \"#7201a8\"], [0.3333333333333333, \"#9c179e\"], [0.4444444444444444, \"#bd3786\"], [0.5555555555555556, \"#d8576b\"], [0.6666666666666666, \"#ed7953\"], [0.7777777777777778, \"#fb9f3a\"], [0.8888888888888888, \"#fdca26\"], [1.0, \"#f0f921\"]], \"type\": \"heatmapgl\"}], \"histogram\": [{\"marker\": {\"colorbar\": {\"outlinewidth\": 0, \"ticks\": \"\"}}, \"type\": \"histogram\"}], \"histogram2d\": [{\"colorbar\": {\"outlinewidth\": 0, \"ticks\": \"\"}, \"colorscale\": [[0.0, \"#0d0887\"], [0.1111111111111111, \"#46039f\"], [0.2222222222222222, \"#7201a8\"], [0.3333333333333333, \"#9c179e\"], [0.4444444444444444, \"#bd3786\"], [0.5555555555555556, \"#d8576b\"], [0.6666666666666666, \"#ed7953\"], [0.7777777777777778, \"#fb9f3a\"], [0.8888888888888888, \"#fdca26\"], [1.0, \"#f0f921\"]], \"type\": \"histogram2d\"}], \"histogram2dcontour\": [{\"colorbar\": {\"outlinewidth\": 0, \"ticks\": \"\"}, \"colorscale\": [[0.0, \"#0d0887\"], [0.1111111111111111, \"#46039f\"], [0.2222222222222222, \"#7201a8\"], [0.3333333333333333, \"#9c179e\"], [0.4444444444444444, \"#bd3786\"], [0.5555555555555556, \"#d8576b\"], [0.6666666666666666, \"#ed7953\"], [0.7777777777777778, \"#fb9f3a\"], [0.8888888888888888, \"#fdca26\"], [1.0, \"#f0f921\"]], \"type\": \"histogram2dcontour\"}], \"mesh3d\": [{\"colorbar\": {\"outlinewidth\": 0, \"ticks\": \"\"}, \"type\": \"mesh3d\"}], \"parcoords\": [{\"line\": {\"colorbar\": {\"outlinewidth\": 0, \"ticks\": \"\"}}, \"type\": \"parcoords\"}], \"pie\": [{\"automargin\": true, \"type\": \"pie\"}], \"scatter\": [{\"marker\": {\"colorbar\": {\"outlinewidth\": 0, \"ticks\": \"\"}}, \"type\": \"scatter\"}], \"scatter3d\": [{\"line\": {\"colorbar\": {\"outlinewidth\": 0, \"ticks\": \"\"}}, \"marker\": {\"colorbar\": {\"outlinewidth\": 0, \"ticks\": \"\"}}, \"type\": \"scatter3d\"}], \"scattercarpet\": [{\"marker\": {\"colorbar\": {\"outlinewidth\": 0, \"ticks\": \"\"}}, \"type\": \"scattercarpet\"}], \"scattergeo\": [{\"marker\": {\"colorbar\": {\"outlinewidth\": 0, \"ticks\": \"\"}}, \"type\": \"scattergeo\"}], \"scattergl\": [{\"marker\": {\"colorbar\": {\"outlinewidth\": 0, \"ticks\": \"\"}}, \"type\": \"scattergl\"}], \"scattermapbox\": [{\"marker\": {\"colorbar\": {\"outlinewidth\": 0, \"ticks\": \"\"}}, \"type\": \"scattermapbox\"}], \"scatterpolar\": [{\"marker\": {\"colorbar\": {\"outlinewidth\": 0, \"ticks\": \"\"}}, \"type\": \"scatterpolar\"}], \"scatterpolargl\": [{\"marker\": {\"colorbar\": {\"outlinewidth\": 0, \"ticks\": \"\"}}, \"type\": \"scatterpolargl\"}], \"scatterternary\": [{\"marker\": {\"colorbar\": {\"outlinewidth\": 0, \"ticks\": \"\"}}, \"type\": \"scatterternary\"}], \"surface\": [{\"colorbar\": {\"outlinewidth\": 0, \"ticks\": \"\"}, \"colorscale\": [[0.0, \"#0d0887\"], [0.1111111111111111, \"#46039f\"], [0.2222222222222222, \"#7201a8\"], [0.3333333333333333, \"#9c179e\"], [0.4444444444444444, \"#bd3786\"], [0.5555555555555556, \"#d8576b\"], [0.6666666666666666, \"#ed7953\"], [0.7777777777777778, \"#fb9f3a\"], [0.8888888888888888, \"#fdca26\"], [1.0, \"#f0f921\"]], \"type\": \"surface\"}], \"table\": [{\"cells\": {\"fill\": {\"color\": \"#EBF0F8\"}, \"line\": {\"color\": \"white\"}}, \"header\": {\"fill\": {\"color\": \"#C8D4E3\"}, \"line\": {\"color\": \"white\"}}, \"type\": \"table\"}]}, \"layout\": {\"annotationdefaults\": {\"arrowcolor\": \"#2a3f5f\", \"arrowhead\": 0, \"arrowwidth\": 1}, \"coloraxis\": {\"colorbar\": {\"outlinewidth\": 0, \"ticks\": \"\"}}, \"colorscale\": {\"diverging\": [[0, \"#8e0152\"], [0.1, \"#c51b7d\"], [0.2, \"#de77ae\"], [0.3, \"#f1b6da\"], [0.4, \"#fde0ef\"], [0.5, \"#f7f7f7\"], [0.6, \"#e6f5d0\"], [0.7, \"#b8e186\"], [0.8, \"#7fbc41\"], [0.9, \"#4d9221\"], [1, \"#276419\"]], \"sequential\": [[0.0, \"#0d0887\"], [0.1111111111111111, \"#46039f\"], [0.2222222222222222, \"#7201a8\"], [0.3333333333333333, \"#9c179e\"], [0.4444444444444444, \"#bd3786\"], [0.5555555555555556, \"#d8576b\"], [0.6666666666666666, \"#ed7953\"], [0.7777777777777778, \"#fb9f3a\"], [0.8888888888888888, \"#fdca26\"], [1.0, \"#f0f921\"]], \"sequentialminus\": [[0.0, \"#0d0887\"], [0.1111111111111111, \"#46039f\"], [0.2222222222222222, \"#7201a8\"], [0.3333333333333333, \"#9c179e\"], [0.4444444444444444, \"#bd3786\"], [0.5555555555555556, \"#d8576b\"], [0.6666666666666666, \"#ed7953\"], [0.7777777777777778, \"#fb9f3a\"], [0.8888888888888888, \"#fdca26\"], [1.0, \"#f0f921\"]]}, \"colorway\": [\"#636efa\", \"#EF553B\", \"#00cc96\", \"#ab63fa\", \"#FFA15A\", \"#19d3f3\", \"#FF6692\", \"#B6E880\", \"#FF97FF\", \"#FECB52\"], \"font\": {\"color\": \"#2a3f5f\"}, \"geo\": {\"bgcolor\": \"white\", \"lakecolor\": \"white\", \"landcolor\": \"#E5ECF6\", \"showlakes\": true, \"showland\": true, \"subunitcolor\": \"white\"}, \"hoverlabel\": {\"align\": \"left\"}, \"hovermode\": \"closest\", \"mapbox\": {\"style\": \"light\"}, \"paper_bgcolor\": \"white\", \"plot_bgcolor\": \"#E5ECF6\", \"polar\": {\"angularaxis\": {\"gridcolor\": \"white\", \"linecolor\": \"white\", \"ticks\": \"\"}, \"bgcolor\": \"#E5ECF6\", \"radialaxis\": {\"gridcolor\": \"white\", \"linecolor\": \"white\", \"ticks\": \"\"}}, \"scene\": {\"xaxis\": {\"backgroundcolor\": \"#E5ECF6\", \"gridcolor\": \"white\", \"gridwidth\": 2, \"linecolor\": \"white\", \"showbackground\": true, \"ticks\": \"\", \"zerolinecolor\": \"white\"}, \"yaxis\": {\"backgroundcolor\": \"#E5ECF6\", \"gridcolor\": \"white\", \"gridwidth\": 2, \"linecolor\": \"white\", \"showbackground\": true, \"ticks\": \"\", \"zerolinecolor\": \"white\"}, \"zaxis\": {\"backgroundcolor\": \"#E5ECF6\", \"gridcolor\": \"white\", \"gridwidth\": 2, \"linecolor\": \"white\", \"showbackground\": true, \"ticks\": \"\", \"zerolinecolor\": \"white\"}}, \"shapedefaults\": {\"line\": {\"color\": \"#2a3f5f\"}}, \"ternary\": {\"aaxis\": {\"gridcolor\": \"white\", \"linecolor\": \"white\", \"ticks\": \"\"}, \"baxis\": {\"gridcolor\": \"white\", \"linecolor\": \"white\", \"ticks\": \"\"}, \"bgcolor\": \"#E5ECF6\", \"caxis\": {\"gridcolor\": \"white\", \"linecolor\": \"white\", \"ticks\": \"\"}}, \"title\": {\"x\": 0.05}, \"xaxis\": {\"automargin\": true, \"gridcolor\": \"white\", \"linecolor\": \"white\", \"ticks\": \"\", \"title\": {\"standoff\": 15}, \"zerolinecolor\": \"white\", \"zerolinewidth\": 2}, \"yaxis\": {\"automargin\": true, \"gridcolor\": \"white\", \"linecolor\": \"white\", \"ticks\": \"\", \"title\": {\"standoff\": 15}, \"zerolinecolor\": \"white\", \"zerolinewidth\": 2}}}},\n",
       "                        {\"responsive\": true}\n",
       "                    ).then(function(){\n",
       "                            \n",
       "var gd = document.getElementById('961f38ed-7d21-4e87-8b87-ff567411b518');\n",
       "var x = new MutationObserver(function (mutations, observer) {{\n",
       "        var display = window.getComputedStyle(gd).display;\n",
       "        if (!display || display === 'none') {{\n",
       "            console.log([gd, 'removed!']);\n",
       "            Plotly.purge(gd);\n",
       "            observer.disconnect();\n",
       "        }}\n",
       "}});\n",
       "\n",
       "// Listen for the removal of the full notebook cells\n",
       "var notebookContainer = gd.closest('#notebook-container');\n",
       "if (notebookContainer) {{\n",
       "    x.observe(notebookContainer, {childList: true});\n",
       "}}\n",
       "\n",
       "// Listen for the clearing of the current output cell\n",
       "var outputEl = gd.closest('.output');\n",
       "if (outputEl) {{\n",
       "    x.observe(outputEl, {childList: true});\n",
       "}}\n",
       "\n",
       "                        })\n",
       "                };\n",
       "                });\n",
       "            </script>\n",
       "        </div>"
      ]
     },
     "metadata": {},
     "output_type": "display_data"
    }
   ],
   "source": [
    "fig = px.scatter_mapbox(df, lat=df.latitude, lon=df.longitude, color=df.nitroTropo,\n",
    "                  color_continuous_scale=px.colors.cyclical.IceFire, size_max=15, zoom=10)\n",
    "fig.update_layout(mapbox_style=\"dark\", mapbox_accesstoken=token)\n",
    "fig.show()"
   ]
  },
  {
   "cell_type": "code",
   "execution_count": null,
   "metadata": {},
   "outputs": [],
   "source": []
  }
 ],
 "metadata": {
  "kernelspec": {
   "display_name": "Python 3",
   "language": "python",
   "name": "python3"
  },
  "language_info": {
   "codemirror_mode": {
    "name": "ipython",
    "version": 3
   },
   "file_extension": ".py",
   "mimetype": "text/x-python",
   "name": "python",
   "nbconvert_exporter": "python",
   "pygments_lexer": "ipython3",
   "version": "3.7.0"
  }
 },
 "nbformat": 4,
 "nbformat_minor": 4
}
